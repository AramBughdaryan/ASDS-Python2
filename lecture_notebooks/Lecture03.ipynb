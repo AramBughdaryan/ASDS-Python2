{
 "cells": [
  {
   "cell_type": "markdown",
   "id": "70e592c3",
   "metadata": {},
   "source": [
    "# Programming with Python\n",
    "\n",
    "## Lecture 03: Exceptions, context management, collections\n",
    "\n",
    "### Armen Gabrielyan\n",
    "\n",
    "#### Yerevan State University / ASDS\n",
    "\n",
    "#### 22 Feb, 2025"
   ]
  },
  {
   "cell_type": "markdown",
   "id": "d0fb1d95",
   "metadata": {
    "slideshow": {
     "slide_type": "slide"
    }
   },
   "source": [
    "# Polynomial class"
   ]
  },
  {
   "cell_type": "code",
   "execution_count": 3,
   "id": "2ced1820",
   "metadata": {
    "slideshow": {
     "slide_type": "fragment"
    }
   },
   "outputs": [],
   "source": [
    "class Polynomial:\n",
    "    def __init__(self, coefficients):\n",
    "        \"\"\"\n",
    "        Initialize a Polynomial object with a list of coefficients.\n",
    "        The coefficients should be in descending order of their degrees.\n",
    "        For example, the coefficients [2, -1, 3] represent the polynomial 2 - x + 3x^2.\n",
    "        \"\"\"\n",
    "        self._coefficients = coefficients\n",
    "\n",
    "    @property\n",
    "    def degree(self):\n",
    "        \"\"\"\n",
    "        Return the degree of the polynomial.\n",
    "        \"\"\"\n",
    "        return len(self._coefficients) - 1\n",
    "\n",
    "    def __add__(self, other):\n",
    "        \"\"\"\n",
    "        Add two polynomials and return a new Polynomial object representing their sum.\n",
    "        \"\"\"\n",
    "        if self.degree >= other.degree:\n",
    "            larger_poly = self._coefficients\n",
    "            smaller_poly = other._coefficients\n",
    "        else:\n",
    "            larger_poly = other._coefficients\n",
    "            smaller_poly = self._coefficients\n",
    "\n",
    "        sum_coefficients = []\n",
    "        for i in range(len(larger_poly)):\n",
    "            if i < len(smaller_poly):\n",
    "                sum_coefficients.append(larger_poly[i] + smaller_poly[i])\n",
    "            else:\n",
    "                sum_coefficients.append(larger_poly[i])\n",
    "\n",
    "        return Polynomial(sum_coefficients)\n",
    "\n",
    "    def __mul__(self, other):\n",
    "        \"\"\"\n",
    "        Multiply two polynomials and return a new Polynomial object representing their product.\n",
    "        \"\"\"\n",
    "        product_degree = self.degree + other.degree\n",
    "        product_coefficients = [0] * (product_degree + 1)\n",
    "\n",
    "        for i in range(len(self._coefficients)):\n",
    "            for j in range(len(other._coefficients)):\n",
    "                product_coefficients[i + j] += self._coefficients[i] * other._coefficients[j]\n",
    "\n",
    "        return Polynomial(product_coefficients)\n",
    "\n",
    "    def __repr__(self):\n",
    "        \"\"\"\n",
    "        Return a string representation of the polynomial.\n",
    "        \"\"\"\n",
    "        terms = []\n",
    "        for i, coefficient in enumerate(self._coefficients):\n",
    "            if coefficient != 0:\n",
    "                if i == 0:\n",
    "                    terms.append(str(coefficient))\n",
    "                elif i == 1:\n",
    "                    terms.append(f\"{coefficient}x\")\n",
    "                else:\n",
    "                    terms.append(f\"{coefficient}x^{i}\")\n",
    "        return \" + \".join(terms)"
   ]
  },
  {
   "cell_type": "code",
   "execution_count": 4,
   "id": "d9559d83",
   "metadata": {
    "slideshow": {
     "slide_type": "fragment"
    }
   },
   "outputs": [
    {
     "name": "stdout",
     "output_type": "stream",
     "text": [
      "p(x) = 2 + -1x + 3x^2\n",
      "q(x) = 1 + 2x + -1x^2\n",
      "p(x) + q(x) = 3 + 1x + 2x^2\n",
      "p(x) * q(x) = 2 + 3x + -1x^2 + 7x^3 + -3x^4\n"
     ]
    }
   ],
   "source": [
    "polynomial1 = Polynomial([2, -1, 3])\n",
    "polynomial2 = Polynomial([1, 2, -1])\n",
    "\n",
    "print(f\"p(x) = {polynomial1}\")\n",
    "print(f\"q(x) = {polynomial2}\")\n",
    "print(f\"p(x) + q(x) = {polynomial1 + polynomial2}\")\n",
    "print(f\"p(x) * q(x) = {polynomial1 * polynomial2}\")"
   ]
  },
  {
   "cell_type": "markdown",
   "id": "d6aa85e5",
   "metadata": {
    "slideshow": {
     "slide_type": "slide"
    }
   },
   "source": [
    "# Reference\n",
    "\n",
    "For more special methods, see https://docs.python.org/3/reference/datamodel.html#special-method-names."
   ]
  },
  {
   "cell_type": "markdown",
   "id": "5b87afd8",
   "metadata": {
    "slideshow": {
     "slide_type": "slide"
    }
   },
   "source": [
    "# Errors and exceptions\n",
    "\n",
    "In Python, **errors** and **exceptions** are a way to handle unexpected situations that can occur during the execution of a program. When an error or exception occurs, the program execution is halted, and Python raises an exception object. This exception object contains information about the type of error and where it occurred in the program."
   ]
  },
  {
   "cell_type": "markdown",
   "id": "734091f1",
   "metadata": {
    "slideshow": {
     "slide_type": "slide"
    }
   },
   "source": [
    "## Syntax errors\n",
    "\n",
    "**Syntax errors** in Python occur when the code violates the language's grammar rules. These errors prevent the code from being compiled or executed. The Python interpreter reports syntax errors by indicating the line number and providing a brief explanation of the issue."
   ]
  },
  {
   "cell_type": "code",
   "execution_count": 5,
   "id": "df6ff1c7",
   "metadata": {
    "slideshow": {
     "slide_type": "fragment"
    }
   },
   "outputs": [
    {
     "ename": "SyntaxError",
     "evalue": "incomplete input (3343577250.py, line 2)",
     "output_type": "error",
     "traceback": [
      "\u001b[0;36m  Cell \u001b[0;32mIn[5], line 2\u001b[0;36m\u001b[0m\n\u001b[0;31m    print(\"Hello, World!\"\u001b[0m\n\u001b[0m                         ^\u001b[0m\n\u001b[0;31mSyntaxError\u001b[0m\u001b[0;31m:\u001b[0m incomplete input\n"
     ]
    }
   ],
   "source": [
    "# Missing parentheses\n",
    "print(\"Hello, World!\""
   ]
  },
  {
   "cell_type": "code",
   "execution_count": 6,
   "id": "bc8a6178",
   "metadata": {
    "slideshow": {
     "slide_type": "fragment"
    }
   },
   "outputs": [
    {
     "ename": "SyntaxError",
     "evalue": "expected ':' (3831842217.py, line 5)",
     "output_type": "error",
     "traceback": [
      "\u001b[0;36m  Cell \u001b[0;32mIn[6], line 5\u001b[0;36m\u001b[0m\n\u001b[0;31m    if x > 5\u001b[0m\n\u001b[0m            ^\u001b[0m\n\u001b[0;31mSyntaxError\u001b[0m\u001b[0;31m:\u001b[0m expected ':'\n"
     ]
    }
   ],
   "source": [
    "# Missing colon\n",
    "\n",
    "x = 42\n",
    "\n",
    "if x > 5\n",
    "    print(\"x is greater than 5\")"
   ]
  },
  {
   "cell_type": "code",
   "execution_count": 7,
   "id": "39dba3c1",
   "metadata": {
    "slideshow": {
     "slide_type": "fragment"
    }
   },
   "outputs": [
    {
     "ename": "IndentationError",
     "evalue": "expected an indented block after 'if' statement on line 5 (4023161812.py, line 6)",
     "output_type": "error",
     "traceback": [
      "\u001b[0;36m  Cell \u001b[0;32mIn[7], line 6\u001b[0;36m\u001b[0m\n\u001b[0;31m    print(\"x is greater than 5\")\u001b[0m\n\u001b[0m    ^\u001b[0m\n\u001b[0;31mIndentationError\u001b[0m\u001b[0;31m:\u001b[0m expected an indented block after 'if' statement on line 5\n"
     ]
    }
   ],
   "source": [
    "# Indentation errors\n",
    "\n",
    "x = 42\n",
    "\n",
    "if x > 5:\n",
    "print(\"x is greater than 5\")"
   ]
  },
  {
   "cell_type": "markdown",
   "id": "49588747",
   "metadata": {
    "slideshow": {
     "slide_type": "slide"
    }
   },
   "source": [
    "## Exceptions\n",
    "\n",
    "Although a statement or expression may be syntactically correct, it can still produce an error during execution. These errors, known as exceptions, are not necessarily fatal and can be handled in Python programs.\n",
    "\n",
    "The following are some examples of exception errors:\n",
    "\n",
    "- `ZeroDivisionError`: Raised when attempting to divide by zero.\n",
    "- `NameError`: It is raised when a local or global name is not found. This typically occurs when you try to use a variable or a function that hasn't been defined.\n",
    "- `TypeError`: This exception is raised when an operation or function is performed on an object of an inappropriate type. For example, trying to concatenate a string with an integer."
   ]
  },
  {
   "cell_type": "code",
   "execution_count": 8,
   "id": "e7b54963",
   "metadata": {
    "slideshow": {
     "slide_type": "fragment"
    }
   },
   "outputs": [
    {
     "ename": "ZeroDivisionError",
     "evalue": "division by zero",
     "output_type": "error",
     "traceback": [
      "\u001b[0;31m---------------------------------------------------------------------------\u001b[0m",
      "\u001b[0;31mZeroDivisionError\u001b[0m                         Traceback (most recent call last)",
      "Cell \u001b[0;32mIn[8], line 1\u001b[0m\n\u001b[0;32m----> 1\u001b[0m result \u001b[38;5;241m=\u001b[39m \u001b[38;5;241;43m42\u001b[39;49m\u001b[43m \u001b[49m\u001b[38;5;241;43m/\u001b[39;49m\u001b[43m \u001b[49m\u001b[38;5;241;43m0\u001b[39;49m\n",
      "\u001b[0;31mZeroDivisionError\u001b[0m: division by zero"
     ]
    }
   ],
   "source": [
    "result = 42 / 0"
   ]
  },
  {
   "cell_type": "code",
   "execution_count": 9,
   "id": "0b1d3511",
   "metadata": {
    "slideshow": {
     "slide_type": "fragment"
    }
   },
   "outputs": [
    {
     "ename": "NameError",
     "evalue": "name 'fourty_two' is not defined",
     "output_type": "error",
     "traceback": [
      "\u001b[0;31m---------------------------------------------------------------------------\u001b[0m",
      "\u001b[0;31mNameError\u001b[0m                                 Traceback (most recent call last)",
      "Cell \u001b[0;32mIn[9], line 1\u001b[0m\n\u001b[0;32m----> 1\u001b[0m \u001b[38;5;241m5\u001b[39m \u001b[38;5;241m*\u001b[39m \u001b[43mfourty_two\u001b[49m\n",
      "\u001b[0;31mNameError\u001b[0m: name 'fourty_two' is not defined"
     ]
    }
   ],
   "source": [
    "5 * fourty_two"
   ]
  },
  {
   "cell_type": "code",
   "execution_count": 10,
   "id": "efc69108",
   "metadata": {
    "slideshow": {
     "slide_type": "fragment"
    }
   },
   "outputs": [
    {
     "ename": "TypeError",
     "evalue": "can only concatenate str (not \"int\") to str",
     "output_type": "error",
     "traceback": [
      "\u001b[0;31m---------------------------------------------------------------------------\u001b[0m",
      "\u001b[0;31mTypeError\u001b[0m                                 Traceback (most recent call last)",
      "Cell \u001b[0;32mIn[10], line 1\u001b[0m\n\u001b[0;32m----> 1\u001b[0m \u001b[38;5;124;43m\"\u001b[39;49m\u001b[38;5;124;43m42\u001b[39;49m\u001b[38;5;124;43m\"\u001b[39;49m\u001b[43m \u001b[49m\u001b[38;5;241;43m+\u001b[39;49m\u001b[43m \u001b[49m\u001b[38;5;241;43m42\u001b[39;49m\n",
      "\u001b[0;31mTypeError\u001b[0m: can only concatenate str (not \"int\") to str"
     ]
    }
   ],
   "source": [
    "\"42\" + 42"
   ]
  },
  {
   "cell_type": "markdown",
   "id": "bd5c6408",
   "metadata": {
    "slideshow": {
     "slide_type": "slide"
    }
   },
   "source": [
    "## Handling exceptions\n",
    "\n",
    "To handle exceptions and prevent them from terminating the program, you can use a `try-except` block. The code within the `try` block is monitored, and if an exception occurs, the corresponding `except` block is executed.\n",
    "\n",
    "```python\n",
    "try:\n",
    "    <statement(s)>\n",
    "except:\n",
    "    <statement(s)>\n",
    "```"
   ]
  },
  {
   "cell_type": "markdown",
   "id": "0eebdab6",
   "metadata": {
    "slideshow": {
     "slide_type": "slide"
    }
   },
   "source": [
    "The following example is a generic error handling. It handles all exception errors that can occurr in the `try` block without explicitly specifying it."
   ]
  },
  {
   "cell_type": "code",
   "execution_count": 11,
   "id": "23aa96ff",
   "metadata": {
    "slideshow": {
     "slide_type": "fragment"
    }
   },
   "outputs": [
    {
     "name": "stdout",
     "output_type": "stream",
     "text": [
      "Error occurred!\n"
     ]
    }
   ],
   "source": [
    "try:\n",
    "    result = 42 / 0\n",
    "except:\n",
    "    print(\"Error occurred!\")"
   ]
  },
  {
   "cell_type": "code",
   "execution_count": 12,
   "id": "54ca9524",
   "metadata": {
    "slideshow": {
     "slide_type": "fragment"
    }
   },
   "outputs": [
    {
     "name": "stdout",
     "output_type": "stream",
     "text": [
      "Error occurred!\n"
     ]
    }
   ],
   "source": [
    "try:\n",
    "    5 * fourty_two\n",
    "except:\n",
    "    print(\"Error occurred!\")"
   ]
  },
  {
   "cell_type": "markdown",
   "id": "5e1ccf80",
   "metadata": {
    "slideshow": {
     "slide_type": "slide"
    }
   },
   "source": [
    "Also, exceptions can be handled by specifying concrete exceptions explictly."
   ]
  },
  {
   "cell_type": "code",
   "execution_count": 13,
   "id": "74ac7486",
   "metadata": {
    "slideshow": {
     "slide_type": "fragment"
    }
   },
   "outputs": [
    {
     "name": "stdout",
     "output_type": "stream",
     "text": [
      "Error: Division by zero occurred!\n"
     ]
    }
   ],
   "source": [
    "try:\n",
    "    result = 42 / 0\n",
    "except ZeroDivisionError:\n",
    "    print(\"Error: Division by zero occurred!\")"
   ]
  },
  {
   "cell_type": "code",
   "execution_count": 14,
   "id": "5b9ba6f2",
   "metadata": {
    "slideshow": {
     "slide_type": "fragment"
    }
   },
   "outputs": [
    {
     "ename": "NameError",
     "evalue": "name 'fourty_two' is not defined",
     "output_type": "error",
     "traceback": [
      "\u001b[0;31m---------------------------------------------------------------------------\u001b[0m",
      "\u001b[0;31mNameError\u001b[0m                                 Traceback (most recent call last)",
      "Cell \u001b[0;32mIn[14], line 2\u001b[0m\n\u001b[1;32m      1\u001b[0m \u001b[38;5;28;01mtry\u001b[39;00m:\n\u001b[0;32m----> 2\u001b[0m     \u001b[38;5;241m5\u001b[39m \u001b[38;5;241m*\u001b[39m \u001b[43mfourty_two\u001b[49m\n\u001b[1;32m      3\u001b[0m \u001b[38;5;28;01mexcept\u001b[39;00m \u001b[38;5;167;01mZeroDivisionError\u001b[39;00m:\n\u001b[1;32m      4\u001b[0m     \u001b[38;5;28mprint\u001b[39m(\u001b[38;5;124m\"\u001b[39m\u001b[38;5;124mError: Division by zero occurred!\u001b[39m\u001b[38;5;124m\"\u001b[39m)\n",
      "\u001b[0;31mNameError\u001b[0m: name 'fourty_two' is not defined"
     ]
    }
   ],
   "source": [
    "try:\n",
    "    5 * fourty_two\n",
    "except ZeroDivisionError:\n",
    "    print(\"Error: Division by zero occurred!\")"
   ]
  },
  {
   "cell_type": "markdown",
   "id": "192c1d50",
   "metadata": {
    "slideshow": {
     "slide_type": "slide"
    }
   },
   "source": [
    "You can have multiple `except` blocks to handle different types of exceptions."
   ]
  },
  {
   "cell_type": "code",
   "execution_count": 15,
   "id": "78785c5a",
   "metadata": {
    "slideshow": {
     "slide_type": "fragment"
    }
   },
   "outputs": [
    {
     "name": "stdout",
     "output_type": "stream",
     "text": [
      "Error: Division by zero occurred!\n"
     ]
    }
   ],
   "source": [
    "try:\n",
    "    result = 42 / 0\n",
    "except ZeroDivisionError:\n",
    "    print(\"Error: Division by zero occurred!\")\n",
    "except NameError:\n",
    "    print(\"Error: Name error occurred!\")"
   ]
  },
  {
   "cell_type": "code",
   "execution_count": 16,
   "id": "a4e03375",
   "metadata": {
    "slideshow": {
     "slide_type": "fragment"
    }
   },
   "outputs": [
    {
     "name": "stdout",
     "output_type": "stream",
     "text": [
      "Error: Name error occurred!\n"
     ]
    }
   ],
   "source": [
    "try:\n",
    "    5 * fourty_two\n",
    "except ZeroDivisionError:\n",
    "    print(\"Error: Division by zero occurred!\")\n",
    "except NameError:\n",
    "    print(\"Error: Name error occurred!\")"
   ]
  },
  {
   "cell_type": "markdown",
   "id": "bd94b767",
   "metadata": {
    "slideshow": {
     "slide_type": "slide"
    }
   },
   "source": [
    "Also, an `except` clause may name multiple exceptions as a parenthesized tuple."
   ]
  },
  {
   "cell_type": "code",
   "execution_count": 17,
   "id": "d263b18b",
   "metadata": {
    "slideshow": {
     "slide_type": "fragment"
    }
   },
   "outputs": [
    {
     "name": "stdout",
     "output_type": "stream",
     "text": [
      "Error occurred!\n"
     ]
    }
   ],
   "source": [
    "try:\n",
    "    result = 42 / 0\n",
    "except (ZeroDivisionError, NameError):\n",
    "    print(\"Error occurred!\")"
   ]
  },
  {
   "cell_type": "code",
   "execution_count": 22,
   "id": "a2ecb706",
   "metadata": {
    "slideshow": {
     "slide_type": "fragment"
    }
   },
   "outputs": [
    {
     "name": "stdout",
     "output_type": "stream",
     "text": [
      "Error occurred!\n"
     ]
    }
   ],
   "source": [
    "try:\n",
    "    5 * fourty_two\n",
    "except (ZeroDivisionError, NameError):\n",
    "    print(\"Error occurred!\")"
   ]
  },
  {
   "cell_type": "code",
   "execution_count": 23,
   "id": "951f3a9f",
   "metadata": {
    "slideshow": {
     "slide_type": "fragment"
    }
   },
   "outputs": [
    {
     "ename": "TypeError",
     "evalue": "can only concatenate str (not \"int\") to str",
     "output_type": "error",
     "traceback": [
      "\u001b[0;31m---------------------------------------------------------------------------\u001b[0m",
      "\u001b[0;31mTypeError\u001b[0m                                 Traceback (most recent call last)",
      "Cell \u001b[0;32mIn[23], line 2\u001b[0m\n\u001b[1;32m      1\u001b[0m \u001b[38;5;28;01mtry\u001b[39;00m:\n\u001b[0;32m----> 2\u001b[0m     \u001b[38;5;124;43m\"\u001b[39;49m\u001b[38;5;124;43m42\u001b[39;49m\u001b[38;5;124;43m\"\u001b[39;49m\u001b[43m \u001b[49m\u001b[38;5;241;43m+\u001b[39;49m\u001b[43m \u001b[49m\u001b[38;5;241;43m42\u001b[39;49m\n\u001b[1;32m      3\u001b[0m \u001b[38;5;28;01mexcept\u001b[39;00m (\u001b[38;5;167;01mZeroDivisionError\u001b[39;00m, \u001b[38;5;167;01mNameError\u001b[39;00m):\n\u001b[1;32m      4\u001b[0m     \u001b[38;5;28mprint\u001b[39m(\u001b[38;5;124m\"\u001b[39m\u001b[38;5;124mError occurred!\u001b[39m\u001b[38;5;124m\"\u001b[39m)\n",
      "\u001b[0;31mTypeError\u001b[0m: can only concatenate str (not \"int\") to str"
     ]
    }
   ],
   "source": [
    "try:\n",
    "    \"42\" + 42\n",
    "except (ZeroDivisionError, NameError):\n",
    "    print(\"Error occurred!\")"
   ]
  },
  {
   "cell_type": "markdown",
   "id": "2d970997",
   "metadata": {
    "slideshow": {
     "slide_type": "slide"
    }
   },
   "source": [
    "## The `else` clause\n",
    "\n",
    "An `else` clause might be included in a `try-catch`. It must be executed if the `try` clause does not raise an exception.\n",
    "\n",
    "```python\n",
    "try:\n",
    "    <statement(s)>\n",
    "except:\n",
    "    <statement(s)>\n",
    "else:\n",
    "    <statement(s)>\n",
    "```"
   ]
  },
  {
   "cell_type": "code",
   "execution_count": 24,
   "id": "c8303643",
   "metadata": {
    "slideshow": {
     "slide_type": "fragment"
    }
   },
   "outputs": [
    {
     "name": "stdout",
     "output_type": "stream",
     "text": [
      "Error: Division by zero occurred!\n"
     ]
    }
   ],
   "source": [
    "try:\n",
    "    result = 42 / 0\n",
    "except ZeroDivisionError:\n",
    "    print(\"Error: Division by zero occurred!\")\n",
    "else:\n",
    "    print(f\"The result is {result}\")"
   ]
  },
  {
   "cell_type": "code",
   "execution_count": 25,
   "id": "1ca3e6bf",
   "metadata": {
    "slideshow": {
     "slide_type": "fragment"
    }
   },
   "outputs": [
    {
     "name": "stdout",
     "output_type": "stream",
     "text": [
      "The result is 21.0\n"
     ]
    }
   ],
   "source": [
    "try:\n",
    "    result = 42 / 2\n",
    "except ZeroDivisionError:\n",
    "    print(\"Error: Division by zero occurred!\")\n",
    "else:\n",
    "    print(f\"The result is {result}\")"
   ]
  },
  {
   "cell_type": "markdown",
   "id": "ae14573a",
   "metadata": {
    "slideshow": {
     "slide_type": "slide"
    }
   },
   "source": [
    "## The `finally` clause for cleaning up\n",
    "\n",
    "Additionally, an optional `finally` clause might be included in a `try-catch`. It must be executed under all circumstances and it is usually used for defining clean-up actions..\n",
    "\n",
    "```python\n",
    "try:\n",
    "    <statement(s)>\n",
    "except:\n",
    "    <statement(s)>\n",
    "else:\n",
    "    <statement(s)>\n",
    "finally:\n",
    "    <statement(s)> \n",
    "```"
   ]
  },
  {
   "cell_type": "code",
   "execution_count": 26,
   "id": "3918522a",
   "metadata": {
    "slideshow": {
     "slide_type": "fragment"
    }
   },
   "outputs": [
    {
     "name": "stdout",
     "output_type": "stream",
     "text": [
      "Error: Division by zero occurred!\n",
      "This will always execute.\n"
     ]
    }
   ],
   "source": [
    "try:\n",
    "    result = 42 / 0\n",
    "except ZeroDivisionError:\n",
    "    print(\"Error: Division by zero occurred!\")\n",
    "else:\n",
    "    print(f\"The result is {result}\")\n",
    "finally:\n",
    "    print(\"This will always execute.\")"
   ]
  },
  {
   "cell_type": "code",
   "execution_count": 27,
   "id": "912fbfe7",
   "metadata": {
    "slideshow": {
     "slide_type": "fragment"
    }
   },
   "outputs": [
    {
     "name": "stdout",
     "output_type": "stream",
     "text": [
      "The result is 21.0\n",
      "This will always execute.\n"
     ]
    }
   ],
   "source": [
    "try:\n",
    "    result = 42 / 2\n",
    "except ZeroDivisionError:\n",
    "    print(\"Error: Division by zero occurred!\")\n",
    "else:\n",
    "    print(f\"The result is {result}\")\n",
    "finally:\n",
    "    print(\"This will always execute.\")"
   ]
  },
  {
   "cell_type": "markdown",
   "id": "8dda7335",
   "metadata": {
    "slideshow": {
     "slide_type": "slide"
    }
   },
   "source": [
    "## Raising an exception\n",
    "\n",
    "The `raise` keyword in Python is used to explicitly raise an exception. The basic syntax is as follows:\n",
    "\n",
    "```python\n",
    "raise <exception>\n",
    "```"
   ]
  },
  {
   "cell_type": "code",
   "execution_count": 33,
   "id": "c0ffab48",
   "metadata": {
    "slideshow": {
     "slide_type": "fragment"
    }
   },
   "outputs": [
    {
     "ename": "Exception",
     "evalue": "The value of x is 1. It should be greater than 5.",
     "output_type": "error",
     "traceback": [
      "\u001b[0;31m---------------------------------------------------------------------------\u001b[0m",
      "\u001b[0;31mException\u001b[0m                                 Traceback (most recent call last)",
      "Cell \u001b[0;32mIn[33], line 3\u001b[0m\n\u001b[1;32m      1\u001b[0m x \u001b[38;5;241m=\u001b[39m \u001b[38;5;241m1\u001b[39m\n\u001b[1;32m      2\u001b[0m \u001b[38;5;28;01mif\u001b[39;00m x \u001b[38;5;241m<\u001b[39m \u001b[38;5;241m5\u001b[39m:\n\u001b[0;32m----> 3\u001b[0m     \u001b[38;5;28;01mraise\u001b[39;00m \u001b[38;5;167;01mException\u001b[39;00m(\u001b[38;5;124mf\u001b[39m\u001b[38;5;124m\"\u001b[39m\u001b[38;5;124mThe value of x is \u001b[39m\u001b[38;5;132;01m{\u001b[39;00mx\u001b[38;5;132;01m}\u001b[39;00m\u001b[38;5;124m. It should be greater than 5.\u001b[39m\u001b[38;5;124m\"\u001b[39m)\n",
      "\u001b[0;31mException\u001b[0m: The value of x is 1. It should be greater than 5."
     ]
    }
   ],
   "source": [
    "x = 1\n",
    "if x < 5:\n",
    "    raise Exception(f\"The value of x is {x}. It should be greater than 5.\")"
   ]
  },
  {
   "cell_type": "code",
   "execution_count": 34,
   "id": "e7d998d8",
   "metadata": {
    "slideshow": {
     "slide_type": "fragment"
    }
   },
   "outputs": [
    {
     "ename": "ValueError",
     "evalue": "",
     "output_type": "error",
     "traceback": [
      "\u001b[0;31m---------------------------------------------------------------------------\u001b[0m",
      "\u001b[0;31mValueError\u001b[0m                                Traceback (most recent call last)",
      "Cell \u001b[0;32mIn[34], line 1\u001b[0m\n\u001b[0;32m----> 1\u001b[0m \u001b[38;5;28;01mraise\u001b[39;00m \u001b[38;5;167;01mValueError\u001b[39;00m\n",
      "\u001b[0;31mValueError\u001b[0m: "
     ]
    }
   ],
   "source": [
    "raise ValueError"
   ]
  },
  {
   "cell_type": "markdown",
   "id": "49ce90e1",
   "metadata": {
    "slideshow": {
     "slide_type": "slide"
    }
   },
   "source": [
    "## Base exceptions\n",
    "\n",
    "In Python, there is a base class for all built-in exceptions called `BaseException`. It serves as the superclass for all other exception classes and provides common functionalities and attributes for handling exceptions.\n",
    "\n",
    "`Exception`, a derived class of `BaseException`, is the base class for all non-fatal built-in exception classes and most user-defined exceptions. Exceptions that do not inherit from the `Exception` class are usually not handled as they are typically intended to signal critical errors that should cause the program to terminate (e.g. `SystemExit` and `KeyboardInterrupt`)."
   ]
  },
  {
   "cell_type": "markdown",
   "id": "ca6c3649",
   "metadata": {
    "slideshow": {
     "slide_type": "subslide"
    }
   },
   "source": [
    "Using `Exception` as a catch-all to handle any type of exception is possible, but it is considered a good practice to be more specific in the types of exceptions you handle. It is recommended to only catch the exceptions that you expect and handle them appropriately. Unexpected exceptions are typically allowed to propagate upwards, allowing higher-level code to handle them if needed.\n",
    "\n",
    "A common pattern when handling `Exception` is to print or log the exception information for debugging purposes and then re-raise the exception. This way, the exception can be handled at multiple levels in the code."
   ]
  },
  {
   "cell_type": "code",
   "execution_count": 35,
   "id": "e2c69cf1",
   "metadata": {
    "slideshow": {
     "slide_type": "fragment"
    }
   },
   "outputs": [
    {
     "name": "stdout",
     "output_type": "stream",
     "text": [
      "Unexpected err=TypeError('can only concatenate str (not \"int\") to str'), type(err)=<class 'TypeError'>\n"
     ]
    },
    {
     "ename": "TypeError",
     "evalue": "can only concatenate str (not \"int\") to str",
     "output_type": "error",
     "traceback": [
      "\u001b[0;31m---------------------------------------------------------------------------\u001b[0m",
      "\u001b[0;31mTypeError\u001b[0m                                 Traceback (most recent call last)",
      "Cell \u001b[0;32mIn[35], line 2\u001b[0m\n\u001b[1;32m      1\u001b[0m \u001b[38;5;28;01mtry\u001b[39;00m:\n\u001b[0;32m----> 2\u001b[0m     \u001b[38;5;124;43m\"\u001b[39;49m\u001b[38;5;124;43m42\u001b[39;49m\u001b[38;5;124;43m\"\u001b[39;49m\u001b[43m \u001b[49m\u001b[38;5;241;43m+\u001b[39;49m\u001b[43m \u001b[49m\u001b[38;5;241;43m42\u001b[39;49m\n\u001b[1;32m      3\u001b[0m \u001b[38;5;28;01mexcept\u001b[39;00m \u001b[38;5;167;01mZeroDivisionError\u001b[39;00m:\n\u001b[1;32m      4\u001b[0m     \u001b[38;5;28mprint\u001b[39m(\u001b[38;5;124m\"\u001b[39m\u001b[38;5;124mError: Division by zero occurred!\u001b[39m\u001b[38;5;124m\"\u001b[39m)\n",
      "\u001b[0;31mTypeError\u001b[0m: can only concatenate str (not \"int\") to str"
     ]
    }
   ],
   "source": [
    "try:\n",
    "    \"42\" + 42\n",
    "except ZeroDivisionError:\n",
    "    print(\"Error: Division by zero occurred!\")\n",
    "except Exception as err:\n",
    "    print(f\"Unexpected {err=}, {type(err)=}\")\n",
    "    raise"
   ]
  },
  {
   "cell_type": "markdown",
   "id": "c25bddad",
   "metadata": {
    "slideshow": {
     "slide_type": "slide"
    }
   },
   "source": [
    "## Exception hierarchy\n",
    "\n",
    "```\n",
    "BaseException\n",
    " ├── BaseExceptionGroup\n",
    " ├── GeneratorExit\n",
    " ├── KeyboardInterrupt\n",
    " ├── SystemExit\n",
    " └── Exception\n",
    "      ├── ArithmeticError\n",
    "      │    ├── FloatingPointError\n",
    "      │    ├── OverflowError\n",
    "      │    └── ZeroDivisionError\n",
    "      ├── AssertionError\n",
    "      ├── AttributeError\n",
    "      ├── BufferError\n",
    "      ├── EOFError\n",
    "      ├── ExceptionGroup [BaseExceptionGroup]\n",
    "      ├── ImportError\n",
    "      │    └── ModuleNotFoundError\n",
    "      ├── LookupError\n",
    "      │    ├── IndexError\n",
    "      │    └── KeyError\n",
    "      ├── MemoryError\n",
    "      ├── NameError\n",
    "      │    └── UnboundLocalError\n",
    "      ├── OSError\n",
    "      │    ├── BlockingIOError\n",
    "      │    ├── ChildProcessError\n",
    "      │    ├── ConnectionError\n",
    "      │    │    ├── BrokenPipeError\n",
    "      │    │    ├── ConnectionAbortedError\n",
    "      │    │    ├── ConnectionRefusedError\n",
    "      │    │    └── ConnectionResetError\n",
    "      │    ├── FileExistsError\n",
    "      │    ├── FileNotFoundError\n",
    "      │    ├── InterruptedError\n",
    "      │    ├── IsADirectoryError\n",
    "      │    ├── NotADirectoryError\n",
    "      │    ├── PermissionError\n",
    "      │    ├── ProcessLookupError\n",
    "      │    └── TimeoutError\n",
    "      ├── ReferenceError\n",
    "      ├── RuntimeError\n",
    "      │    ├── NotImplementedError\n",
    "      │    └── RecursionError\n",
    "      ├── StopAsyncIteration\n",
    "      ├── StopIteration\n",
    "      ├── SyntaxError\n",
    "      │    └── IndentationError\n",
    "      │         └── TabError\n",
    "      ├── SystemError\n",
    "      ├── TypeError\n",
    "      ├── ValueError\n",
    "      │    └── UnicodeError\n",
    "      │         ├── UnicodeDecodeError\n",
    "      │         ├── UnicodeEncodeError\n",
    "      │         └── UnicodeTranslateError\n",
    "      └── Warning\n",
    "           ├── BytesWarning\n",
    "           ├── DeprecationWarning\n",
    "           ├── EncodingWarning\n",
    "           ├── FutureWarning\n",
    "           ├── ImportWarning\n",
    "           ├── PendingDeprecationWarning\n",
    "           ├── ResourceWarning\n",
    "           ├── RuntimeWarning\n",
    "           ├── SyntaxWarning\n",
    "           ├── UnicodeWarning\n",
    "           └── UserWarning\n",
    "```"
   ]
  },
  {
   "cell_type": "markdown",
   "id": "8882cf82",
   "metadata": {
    "slideshow": {
     "slide_type": "slide"
    }
   },
   "source": [
    "## User-defined exceptions\n",
    "\n",
    "Programs have the ability to define their own exceptions by creating custom exception classes. These exception classes should generally inherit from the `Exception` class, either directly or through intermediate subclasses."
   ]
  },
  {
   "cell_type": "code",
   "execution_count": 36,
   "id": "585720c7",
   "metadata": {
    "slideshow": {
     "slide_type": "fragment"
    }
   },
   "outputs": [],
   "source": [
    "class MyCustomError(Exception):\n",
    "    pass"
   ]
  },
  {
   "cell_type": "code",
   "execution_count": 37,
   "id": "02058ba1",
   "metadata": {
    "slideshow": {
     "slide_type": "fragment"
    }
   },
   "outputs": [
    {
     "ename": "MyCustomError",
     "evalue": "",
     "output_type": "error",
     "traceback": [
      "\u001b[0;31m---------------------------------------------------------------------------\u001b[0m",
      "\u001b[0;31mMyCustomError\u001b[0m                             Traceback (most recent call last)",
      "Cell \u001b[0;32mIn[37], line 1\u001b[0m\n\u001b[0;32m----> 1\u001b[0m \u001b[38;5;28;01mraise\u001b[39;00m MyCustomError\n",
      "\u001b[0;31mMyCustomError\u001b[0m: "
     ]
    }
   ],
   "source": [
    "raise MyCustomError"
   ]
  },
  {
   "cell_type": "code",
   "execution_count": 38,
   "id": "f847c31a",
   "metadata": {
    "slideshow": {
     "slide_type": "fragment"
    }
   },
   "outputs": [
    {
     "name": "stdout",
     "output_type": "stream",
     "text": [
      "Custom error message\n"
     ]
    }
   ],
   "source": [
    "try:\n",
    "    raise MyCustomError(\"Custom error message\")\n",
    "except MyCustomError as err:\n",
    "    print(err)"
   ]
  },
  {
   "cell_type": "markdown",
   "id": "edf46480",
   "metadata": {},
   "source": [
    "# Iterators revisited\n",
    "\n",
    "At their core, iterators are objects that implement the iterator protocol. This protocol consists of two methods that work together:\n",
    "\n",
    "1. `__iter__()`: This method is called when iteration is initialized for an object. It must return the iterator object itself. In most cases, when you are creating a custom iterator class, `__iter__` will simply return `self`. However, for iterable containers, `__iter__` is responsible for creating and returning a new iterator object each time it is called.\n",
    "2. `__next__()`: This method is called to get the next value from the iterator. It should return the next item in the sequence. When there are no more items to return, it must raise the `StopIteration` exception. This signals to the iteration mechanism (like a `for` loop) that the iteration is complete."
   ]
  },
  {
   "cell_type": "markdown",
   "id": "05b4ee78",
   "metadata": {},
   "source": [
    "## Custom iterator for Fibonacci sequence"
   ]
  },
  {
   "cell_type": "markdown",
   "id": "36c261a9",
   "metadata": {},
   "source": [
    "`Fibonacci` class defined below is both an iterable and an iterator, which usually is not the best practice."
   ]
  },
  {
   "cell_type": "code",
   "execution_count": 45,
   "id": "2e0218f8",
   "metadata": {},
   "outputs": [
    {
     "name": "stdout",
     "output_type": "stream",
     "text": [
      "0\n",
      "1\n",
      "1\n",
      "2\n",
      "3\n",
      "5\n",
      "8\n",
      "13\n",
      "21\n",
      "34\n"
     ]
    }
   ],
   "source": [
    "class Fibonacci:\n",
    "    def __init__(self, max_num):\n",
    "        self._max_num = max_num\n",
    "        self._x, self._y = 0, 1\n",
    "\n",
    "    def __iter__(self):\n",
    "        return self\n",
    "\n",
    "    def __next__(self):\n",
    "        if self._x > self._max_num:\n",
    "            raise StopIteration\n",
    "        fib_num = self._x\n",
    "        self._x, self._y = self._y, self._x + self._y\n",
    "        return fib_num\n",
    "\n",
    "for num in Fibonacci(50):\n",
    "    print(num)"
   ]
  },
  {
   "cell_type": "markdown",
   "id": "4d0186e2",
   "metadata": {},
   "source": [
    "`Sentence` class defined below is an iterable and `SentenceIterator` class is an iterator. This is often the more flexible and correct pattern, especially when you want to be able to iterate over the same iterable multiple times independently"
   ]
  },
  {
   "cell_type": "code",
   "execution_count": 40,
   "id": "f083ff76",
   "metadata": {},
   "outputs": [
    {
     "name": "stdout",
     "output_type": "stream",
     "text": [
      "This\n",
      "is\n",
      "a\n",
      "sample\n",
      "sentence.\n"
     ]
    }
   ],
   "source": [
    "class Sentence:\n",
    "    def __init__(self, text):\n",
    "        self._words = text.split()\n",
    "\n",
    "    def __iter__(self):\n",
    "        # Return a new iterator object\n",
    "        return SentenceIterator(self._words)\n",
    "\n",
    "class SentenceIterator:\n",
    "    def __init__(self, words):\n",
    "        self._words = words\n",
    "        self._index = 0\n",
    "\n",
    "    def __iter__(self):\n",
    "        return self\n",
    "\n",
    "    def __next__(self):\n",
    "        if self._index < len(self._words):\n",
    "            word = self._words[self._index]\n",
    "            self._index += 1\n",
    "            return word\n",
    "        raise StopIteration\n",
    "\n",
    "for word in Sentence(\"This is a sample sentence.\"):\n",
    "    print(word)"
   ]
  },
  {
   "cell_type": "markdown",
   "id": "29384e04",
   "metadata": {},
   "source": [
    "The separation of iterators and iterables is a design choice that brings several key advantages, all centered around the idea of reusability, independent iteration, and separation of concerns."
   ]
  },
  {
   "cell_type": "markdown",
   "id": "a59ed3c6",
   "metadata": {},
   "source": [
    "The following examples show this problem of having the iterator and iterable defined in the same class."
   ]
  },
  {
   "cell_type": "code",
   "execution_count": 46,
   "id": "c1044d3a",
   "metadata": {},
   "outputs": [
    {
     "name": "stdout",
     "output_type": "stream",
     "text": [
      "=====First iteration\n",
      "0\n",
      "1\n",
      "1\n",
      "2\n",
      "3\n",
      "5\n",
      "8\n",
      "13\n",
      "21\n",
      "34\n",
      "=====Second iteration\n"
     ]
    }
   ],
   "source": [
    "fibonacci = Fibonacci(50)\n",
    "\n",
    "print(\"=====First iteration\")\n",
    "\n",
    "for fib in fibonacci:\n",
    "    print(fib)\n",
    "\n",
    "# fibonacci = Fibonacci(50)\n",
    "\n",
    "    \n",
    "print(\"=====Second iteration\")\n",
    "\n",
    "for fib in fibonacci:\n",
    "    print(fib)"
   ]
  },
  {
   "cell_type": "markdown",
   "id": "659f25d7",
   "metadata": {},
   "source": [
    "Separating them makes the same iterable object reusable."
   ]
  },
  {
   "cell_type": "code",
   "execution_count": 42,
   "id": "2c90609a",
   "metadata": {},
   "outputs": [
    {
     "name": "stdout",
     "output_type": "stream",
     "text": [
      "=====First iteration\n",
      "This\n",
      "is\n",
      "a\n",
      "sample\n",
      "sentence.\n",
      "=====Second iteration\n",
      "This\n",
      "is\n",
      "a\n",
      "sample\n",
      "sentence.\n"
     ]
    }
   ],
   "source": [
    "sentence = Sentence(\"This is a sample sentence.\")\n",
    "\n",
    "print(\"=====First iteration\")\n",
    "\n",
    "for word in sentence:\n",
    "    print(word)\n",
    "\n",
    "print(\"=====Second iteration\")\n",
    "\n",
    "for word in sentence:\n",
    "    print(word)"
   ]
  },
  {
   "cell_type": "markdown",
   "id": "57bf0437",
   "metadata": {},
   "source": [
    "**Exercise:** Make `Fibonacci` iterable independent and reusable."
   ]
  },
  {
   "cell_type": "code",
   "execution_count": 48,
   "id": "f58e25a8",
   "metadata": {},
   "outputs": [
    {
     "name": "stdout",
     "output_type": "stream",
     "text": [
      "0\n",
      "1\n",
      "1\n",
      "2\n",
      "3\n",
      "5\n",
      "8\n",
      "13\n",
      "21\n",
      "34\n"
     ]
    }
   ],
   "source": [
    "class Fibonacci:\n",
    "    def __init__(self, max_num):\n",
    "        self._max_num = max_num\n",
    "\n",
    "    def __iter__(self):\n",
    "        return FibonacciIterator(self._max_num)\n",
    "\n",
    "class FibonacciIterator:\n",
    "    def __init__(self, max_num):\n",
    "        self._max_num = max_num\n",
    "        self._x, self._y = 0, 1\n",
    "    \n",
    "    def __next__(self):\n",
    "        if self._x > self._max_num:\n",
    "            raise StopIteration\n",
    "        fib_num = self._x\n",
    "        self._x, self._y = self._y, self._x + self._y\n",
    "        return fib_num\n",
    "\n",
    "for num in Fibonacci(50):\n",
    "    print(num)"
   ]
  },
  {
   "cell_type": "code",
   "execution_count": 49,
   "id": "70aee0f7",
   "metadata": {},
   "outputs": [
    {
     "name": "stdout",
     "output_type": "stream",
     "text": [
      "=====First iteration\n",
      "0\n",
      "1\n",
      "1\n",
      "2\n",
      "3\n",
      "5\n",
      "8\n",
      "13\n",
      "21\n",
      "34\n",
      "=====Second iteration\n",
      "0\n",
      "1\n",
      "1\n",
      "2\n",
      "3\n",
      "5\n",
      "8\n",
      "13\n",
      "21\n",
      "34\n"
     ]
    }
   ],
   "source": [
    "fibonacci = Fibonacci(50)\n",
    "\n",
    "print(\"=====First iteration\")\n",
    "\n",
    "for fib in fibonacci:\n",
    "    print(fib)\n",
    "\n",
    "# fibonacci = Fibonacci(50)\n",
    "\n",
    "    \n",
    "print(\"=====Second iteration\")\n",
    "\n",
    "for fib in fibonacci:\n",
    "    print(fib)"
   ]
  },
  {
   "cell_type": "markdown",
   "id": "d4c83189",
   "metadata": {},
   "source": [
    "# File I/O\n",
    "\n",
    "Usually, a file operation consists of the following three steps:\n",
    "\n",
    "1. Open a file\n",
    "2. Perform an operation\n",
    "3. Close the file"
   ]
  },
  {
   "cell_type": "code",
   "execution_count": 50,
   "id": "9d66e857",
   "metadata": {},
   "outputs": [
    {
     "name": "stdout",
     "output_type": "stream",
     "text": [
      "False\n",
      "True\n"
     ]
    }
   ],
   "source": [
    "f = open(\"example.txt\", \"w\")\n",
    "\n",
    "print(f.closed)\n",
    "\n",
    "f.write(\"Hello, world!\")\n",
    "\n",
    "f.close()\n",
    "\n",
    "print(f.closed)"
   ]
  },
  {
   "cell_type": "markdown",
   "id": "3cbb56f5",
   "metadata": {},
   "source": [
    "Closing files is crucial to prevent data loss, free system resources, flush data to disk, avoid file locks, and ensure smooth program execution."
   ]
  },
  {
   "cell_type": "markdown",
   "id": "aa0d3395",
   "metadata": {
    "slideshow": {
     "slide_type": "slide"
    }
   },
   "source": [
    "# Ensure a file is closed with `try-finally` block\n",
    "\n",
    "By using `try-finally`, you guarantee that the file is closed, even if an exception is raised during the operations."
   ]
  },
  {
   "cell_type": "code",
   "execution_count": 51,
   "id": "148bd678",
   "metadata": {
    "slideshow": {
     "slide_type": "fragment"
    }
   },
   "outputs": [
    {
     "name": "stdout",
     "output_type": "stream",
     "text": [
      "Hello, world!\n",
      "False\n",
      "True\n"
     ]
    }
   ],
   "source": [
    "# Open the file\n",
    "f = open(\"example.txt\", \"r\")\n",
    "\n",
    "try:\n",
    "    # Perform operations on the file\n",
    "    print(f.read())\n",
    "    print(f.closed)\n",
    "finally:\n",
    "    # Close the file in the 'finally' block\n",
    "    f.close()\n",
    "    \n",
    "print(f.closed)"
   ]
  },
  {
   "cell_type": "markdown",
   "id": "aed0e4f2",
   "metadata": {
    "slideshow": {
     "slide_type": "slide"
    }
   },
   "source": [
    "# Context management\n",
    "\n",
    "Context management in Python refers to the ability to manage resources within a specific context, ensuring that they are properly initialized and cleaned up. It allows you to define a block of code where certain actions are taken before and after its execution, guaranteeing that necessary operations are performed, regardless of whether an exception occurs or not. Context management is commonly used with objects that require setup and teardown operations, such as file handling, network connections, and database transactions.\n",
    "\n",
    "In Python, context management is typically achieved using the `with` statement and the context management protocol, which is implemented by the objects involved. The protocol requires two methods to be defined in an object: `__enter__()` and `__exit__()`. The `__enter__()` method sets up the necessary resources and returns an object, while the `__exit__()` method handles the cleanup actions."
   ]
  },
  {
   "cell_type": "markdown",
   "id": "684f3358",
   "metadata": {
    "slideshow": {
     "slide_type": "slide"
    }
   },
   "source": [
    "# `with` statement\n",
    "\n",
    "The `with` statement in Python provides a convenient way to manage resources, such as files or network connections, that need to be cleaned up or released after use. It ensures that certain operations are performed both before and after the block of code within the `with` statement. The general syntax of a `with` statement is as follows:\n",
    "\n",
    "```python\n",
    "with expression [as target]:\n",
    "    # code block\n",
    "```\n",
    "\n",
    "Here's how the `with` statement works:\n",
    "\n",
    "1. The expression following the `with` keyword is typically a function or an object that represents the resource being managed. It must define two special methods: `__enter__()` and `__exit__()`.\n",
    "2. The `__enter__()` method is called when the block of code within the `with` statement is entered. It sets up the resource and returns an object that will be assigned to the optional `target` variable.\n",
    "3. The `target` is an optional variable that receives the result of the `__enter__()` method. It allows you to work with the resource within the block of code.\n",
    "4. The indented code block following the `with` statement represents the actions to be performed using the resource.\n",
    "5. After the block of code is executed or if an exception occurs, the `__exit__()` method of the resource object is called. It is responsible for cleaning up the resource or handling any exceptions that occurred within the `with` block.\n",
    "\n",
    "```python\n",
    "class ContextManager:\n",
    "    def __enter__(self):\n",
    "        # Code to set up resources or perform setup actions.\n",
    "        return self  # Optional: you can return an object to be used in the 'with' block.\n",
    "\n",
    "    def __exit__(self, exc_type, exc_value, traceback):\n",
    "        # Code to clean up resources or perform cleanup actions.\n",
    "        # exc_type, exc_value, and traceback hold exception information if an exception occurs\n",
    "        # within the 'with' block.\n",
    "```\n",
    "\n",
    "Reference: [PEP 343 – The “with” Statement](https://peps.python.org/pep-0343/)"
   ]
  },
  {
   "cell_type": "markdown",
   "id": "eb5ddcdc",
   "metadata": {},
   "source": [
    "Note that `__exit__` method returns `False` to propagate the exception.\n",
    "Also, note that the `__enter__` method returns `self` as the object to assign to the `as target`, \n",
    "in other use cases, this might return a completely different object instead."
   ]
  },
  {
   "cell_type": "markdown",
   "id": "462c8142",
   "metadata": {},
   "source": [
    "A list of some common context manager use cases:\n",
    "\n",
    "1. **File Handling:** Automatically open and close files.\n",
    "2. **Database Connections:** Ensure database connections are safely opened and closed.\n",
    "3. **Thread Locking:** Manage locks in multi-threaded applications.\n",
    "4. **Network Connections:** Ensure proper opening and closing of sockets.\n",
    "5. **Resource Management:** Ensure proper setup and cleanup of resources.\n"
   ]
  },
  {
   "cell_type": "code",
   "execution_count": 63,
   "id": "6a5c23c5",
   "metadata": {},
   "outputs": [],
   "source": [
    "class HelloContextManager:\n",
    "    def __init__(self, name=\"world\"):\n",
    "        self._name = name\n",
    "    \n",
    "    def hello(self):\n",
    "        print(f\"Hello, {self._name}!\")\n",
    "    \n",
    "    def __enter__(self):\n",
    "        print(\"Entering context\")\n",
    "        return self  # The return value is assigned to the `as` variable in `with`\n",
    "    \n",
    "    def __exit__(self, exc_type, exc_value, traceback):\n",
    "        print(\"Exiting context\")\n",
    "        if exc_type:\n",
    "            print(f\"exc_type = {exc_type}\")\n",
    "            print(f\"exc_value = {exc_value}\")\n",
    "            print(f\"traceback = {traceback}\")\n",
    "        return False  # If True, the exception won't be reraised"
   ]
  },
  {
   "cell_type": "code",
   "execution_count": 64,
   "id": "090aee3b",
   "metadata": {},
   "outputs": [
    {
     "name": "stdout",
     "output_type": "stream",
     "text": [
      "Entering context\n",
      "Start context\n",
      "Hello, Batman!\n",
      "End context\n",
      "Exiting context\n"
     ]
    }
   ],
   "source": [
    "with HelloContextManager(name=\"Batman\") as cm:\n",
    "    print(\"Start context\")\n",
    "    cm.hello()\n",
    "    print(\"End context\")"
   ]
  },
  {
   "cell_type": "code",
   "execution_count": 65,
   "id": "02b896ea",
   "metadata": {},
   "outputs": [
    {
     "name": "stdout",
     "output_type": "stream",
     "text": [
      "Hello, Batman!\n"
     ]
    }
   ],
   "source": [
    "cm.hello()"
   ]
  },
  {
   "cell_type": "code",
   "execution_count": 66,
   "id": "46184ae4",
   "metadata": {},
   "outputs": [
    {
     "name": "stdout",
     "output_type": "stream",
     "text": [
      "Entering context\n",
      "Start context\n",
      "Exiting context\n",
      "exc_type = <class 'ValueError'>\n",
      "exc_value = Some value is invalid\n",
      "traceback = <traceback object at 0x10bb916c0>\n"
     ]
    },
    {
     "ename": "ValueError",
     "evalue": "Some value is invalid",
     "output_type": "error",
     "traceback": [
      "\u001b[0;31m---------------------------------------------------------------------------\u001b[0m",
      "\u001b[0;31mValueError\u001b[0m                                Traceback (most recent call last)",
      "Cell \u001b[0;32mIn[66], line 3\u001b[0m\n\u001b[1;32m      1\u001b[0m \u001b[38;5;28;01mwith\u001b[39;00m HelloContextManager():\n\u001b[1;32m      2\u001b[0m     \u001b[38;5;28mprint\u001b[39m(\u001b[38;5;124m\"\u001b[39m\u001b[38;5;124mStart context\u001b[39m\u001b[38;5;124m\"\u001b[39m)\n\u001b[0;32m----> 3\u001b[0m     \u001b[38;5;28;01mraise\u001b[39;00m \u001b[38;5;167;01mValueError\u001b[39;00m(\u001b[38;5;124m\"\u001b[39m\u001b[38;5;124mSome value is invalid\u001b[39m\u001b[38;5;124m\"\u001b[39m)\n\u001b[1;32m      4\u001b[0m     \u001b[38;5;28mprint\u001b[39m(\u001b[38;5;124m\"\u001b[39m\u001b[38;5;124mEnd context\u001b[39m\u001b[38;5;124m\"\u001b[39m)\n",
      "\u001b[0;31mValueError\u001b[0m: Some value is invalid"
     ]
    }
   ],
   "source": [
    "with HelloContextManager():\n",
    "    print(\"Start context\")\n",
    "    raise ValueError(\"Some value is invalid\")\n",
    "    print(\"End context\")"
   ]
  },
  {
   "cell_type": "code",
   "execution_count": 67,
   "id": "9b887714",
   "metadata": {},
   "outputs": [
    {
     "name": "stdout",
     "output_type": "stream",
     "text": [
      "Entering context\n",
      "Start context\n",
      "Exiting context\n",
      "exc_type = <class 'ValueError'>\n",
      "exc_value = Some value is invalid\n",
      "traceback = <traceback object at 0x10bb18680>\n",
      "Some value is invalid\n"
     ]
    }
   ],
   "source": [
    "try:\n",
    "    with HelloContextManager():\n",
    "        print(\"Start context\")\n",
    "        raise ValueError(\"Some value is invalid\")\n",
    "        print(\"End context\")\n",
    "except Exception as exp:\n",
    "    print(exp)"
   ]
  },
  {
   "cell_type": "markdown",
   "id": "9c3f6951",
   "metadata": {
    "slideshow": {
     "slide_type": "slide"
    }
   },
   "source": [
    "## Ensure a file is closed via `with` statement\n",
    "\n",
    "It is a good practice to use `with` statement when working with files. It guarantees that the file is closed, even if an exception is raised during the operations."
   ]
  },
  {
   "cell_type": "code",
   "execution_count": 68,
   "id": "1a08599c",
   "metadata": {
    "slideshow": {
     "slide_type": "fragment"
    }
   },
   "outputs": [
    {
     "name": "stdout",
     "output_type": "stream",
     "text": [
      "Hello, world!\n",
      "False\n",
      "True\n"
     ]
    }
   ],
   "source": [
    "with open(\"example.txt\", \"r\") as f:\n",
    "    # Perform operations on the file\n",
    "    print(f.read())\n",
    "    print(f.closed)\n",
    "    \n",
    "print(f.closed)"
   ]
  },
  {
   "cell_type": "markdown",
   "id": "2df433b4",
   "metadata": {},
   "source": [
    "## Context manager fo file handling\n",
    "\n",
    "This is a custom context manager for handling files, ensuring proper opening, reading/writing, and closing of files."
   ]
  },
  {
   "cell_type": "code",
   "execution_count": 69,
   "id": "21da1967",
   "metadata": {},
   "outputs": [],
   "source": [
    "class FileManager:\n",
    "    def __init__(self, filename, mode):\n",
    "        self._filename = filename\n",
    "        self._mode = mode\n",
    "        self._file = None\n",
    "\n",
    "    def __enter__(self):\n",
    "        self._file = open(self._filename, self._mode)\n",
    "        return self._file\n",
    "\n",
    "    def __exit__(self, exc_type, exc_value, traceback):\n",
    "        if self._file:\n",
    "            self._file.close()\n",
    "        if exc_type:\n",
    "            print(f\"An error occurred: {exc_value}\")\n",
    "        return False"
   ]
  },
  {
   "cell_type": "code",
   "execution_count": 70,
   "id": "0009c90f",
   "metadata": {},
   "outputs": [],
   "source": [
    "with FileManager(\"custom_example.txt\", \"w\") as f:\n",
    "    f.write(\"Hello, world from custom file manager!\")"
   ]
  },
  {
   "cell_type": "code",
   "execution_count": 71,
   "id": "1ed0b412",
   "metadata": {},
   "outputs": [
    {
     "name": "stdout",
     "output_type": "stream",
     "text": [
      "File content: Hello, world from custom file manager!\n"
     ]
    }
   ],
   "source": [
    "with FileManager(\"custom_example.txt\", \"r\") as f:\n",
    "    print(\"File content:\", f.read())"
   ]
  },
  {
   "cell_type": "markdown",
   "id": "c1acbf7f",
   "metadata": {},
   "source": [
    "## Context manager for timing execution\n",
    "Measure the execution time of a block of code."
   ]
  },
  {
   "cell_type": "code",
   "execution_count": 72,
   "id": "94150bc4",
   "metadata": {},
   "outputs": [],
   "source": [
    "import time\n",
    "\n",
    "class Timer:\n",
    "    def __enter__(self):\n",
    "        self._start = time.perf_counter()\n",
    "        return self\n",
    "\n",
    "    def __exit__(self, exc_type, exc_value, traceback):\n",
    "        self._end = time.perf_counter()\n",
    "        print(f\"Execution time: {self._end - self._start:.4f} seconds\")"
   ]
  },
  {
   "cell_type": "code",
   "execution_count": 73,
   "id": "033ffae6",
   "metadata": {},
   "outputs": [
    {
     "name": "stdout",
     "output_type": "stream",
     "text": [
      "Execution time: 0.4387 seconds\n"
     ]
    }
   ],
   "source": [
    "with Timer():\n",
    "    sum(x**2 for x in range(10**7))"
   ]
  },
  {
   "cell_type": "markdown",
   "id": "971fcb04",
   "metadata": {},
   "source": [
    "# Function-based context managers using `@contextmanager` decorator:\n",
    "\n",
    "Use the `contextlib.contextmanager` decorator to create context managers from generator functions."
   ]
  },
  {
   "cell_type": "code",
   "execution_count": null,
   "id": "634f43c5",
   "metadata": {},
   "outputs": [],
   "source": [
    "from contextlib import contextmanager\n",
    "\n",
    "@contextmanager\n",
    "def hello_context_manager(name=\"world\"):\n",
    "    print(\"Entering context\")  # Equivalent to __enter__()\n",
    "    try:\n",
    "        yield f\"Hello, {name}!\" # Yield the resource to the 'as' variable\n",
    "    except Exception as e:\n",
    "        print(f\"Exception caught: {e}\")\n",
    "        raise  # Re-raise exception if needed\n",
    "    finally:\n",
    "        print(\"Exiting context\")  # Equivalent to __exit__()\n",
    "\n",
    "with hello_context_manager(\"Superman\") as hello:\n",
    "    print(hello)"
   ]
  },
  {
   "cell_type": "markdown",
   "id": "c8a5075a",
   "metadata": {},
   "source": [
    "# Built-in context managers"
   ]
  },
  {
   "cell_type": "markdown",
   "id": "7b101853",
   "metadata": {},
   "source": [
    "### **1. `open()` – File Handling**\n",
    "Automatically opens and closes files.  "
   ]
  },
  {
   "cell_type": "code",
   "execution_count": 74,
   "id": "1647bf7e",
   "metadata": {},
   "outputs": [],
   "source": [
    "with open(\"example.txt\", \"w\") as f:\n",
    "    f.write(\"Hello, world!\")"
   ]
  },
  {
   "cell_type": "markdown",
   "id": "da4c0baa",
   "metadata": {},
   "source": [
    "### **2. `contextlib.suppress()` – Suppressing Exceptions**\n",
    "Ignores specified exceptions.  "
   ]
  },
  {
   "cell_type": "code",
   "execution_count": 79,
   "id": "55eb7c81",
   "metadata": {},
   "outputs": [
    {
     "ename": "NameError",
     "evalue": "name 'result_ex' is not defined",
     "output_type": "error",
     "traceback": [
      "\u001b[0;31m---------------------------------------------------------------------------\u001b[0m",
      "\u001b[0;31mNameError\u001b[0m                                 Traceback (most recent call last)",
      "Cell \u001b[0;32mIn[79], line 6\u001b[0m\n\u001b[1;32m      3\u001b[0m \u001b[38;5;28;01mwith\u001b[39;00m suppress(\u001b[38;5;167;01mZeroDivisionError\u001b[39;00m):\n\u001b[1;32m      4\u001b[0m     result_ex \u001b[38;5;241m=\u001b[39m \u001b[38;5;241m1\u001b[39m \u001b[38;5;241m/\u001b[39m \u001b[38;5;241m0\u001b[39m\n\u001b[0;32m----> 6\u001b[0m \u001b[38;5;28mprint\u001b[39m(\u001b[43mresult_ex\u001b[49m)\n",
      "\u001b[0;31mNameError\u001b[0m: name 'result_ex' is not defined"
     ]
    }
   ],
   "source": [
    "from contextlib import suppress\n",
    "\n",
    "with suppress(ZeroDivisionError):\n",
    "    result_ex = 1 / 0\n",
    "\n",
    "print(result_ex)"
   ]
  },
  {
   "cell_type": "markdown",
   "id": "b3744f8e",
   "metadata": {},
   "source": [
    "### **3. `contextlib.redirect_stdout()` – Redirecting Output** \n",
    "Redirects `stdout`."
   ]
  },
  {
   "cell_type": "code",
   "execution_count": 81,
   "id": "f21ae9eb",
   "metadata": {},
   "outputs": [],
   "source": [
    "from contextlib import redirect_stdout\n",
    "\n",
    "with open(\"output.log\", \"w\") as f, redirect_stdout(f):\n",
    "    print(\"This will be written to output.log\")"
   ]
  },
  {
   "cell_type": "markdown",
   "id": "a822f86e",
   "metadata": {},
   "source": [
    "### **4. `contextlib.redirect_stderr()` – Redirecting Errors**\n",
    "Redirects `stderr`."
   ]
  },
  {
   "cell_type": "code",
   "execution_count": null,
   "id": "eda86930",
   "metadata": {},
   "outputs": [],
   "source": [
    "import sys\n",
    "from contextlib import redirect_stderr\n",
    "\n",
    "with open(\"error.log\", \"w\") as f, redirect_stderr(f):\n",
    "    print(\"This will be written to error.log\", file=sys.stderr)"
   ]
  },
  {
   "cell_type": "markdown",
   "id": "9ecae444",
   "metadata": {},
   "source": [
    "# Data classes\n",
    "\n",
    "In Python, a `dataclass` is a decorator (`@dataclass`) that simplifies the creation of classes used for storing data. Introduced in Python 3.7 [PEP 557 – Data Classes](https://peps.python.org/pep-0557/), the `dataclasses` module automatically generates special methods like `__init__`, `__repr__`, `__eq__`, and more.\n",
    "\n",
    "## Key features\n",
    "\n",
    "- **Automatic Generation of Special Methods**: You can automatically get methods like `__init__()`, `__repr__()`, `__eq__()`, and others, which reduces boilerplate code. This is particularly useful for classes that are mainly used to store data and don't have much behavior.\n",
    "\n",
    "- **Immutability Option**: Dataclasses provide an option to make instances immutable (read-only), which is achieved by setting the `frozen` parameter in the `dataclass` decorator. This is useful for creating objects that should not be modified after creation.\n",
    "\n",
    "- **Type Annotations**: Dataclasses use type annotations to define fields, which helps with type checking and clarity of code.\n",
    "\n",
    "- **Default Values**: Fields in dataclasses can have default values, which simplifies the creation of objects when only a subset of the fields need to be specified.\n",
    "\n",
    "- **Inheritance Support**: Dataclasses can be inherited from other dataclasses, allowing for code reuse and the extension of data structures.\n",
    "\n",
    "- **Post-Initialization Processing**: With the `__post_init__` method, you can add additional processing steps after the class has been initialized.\n",
    "\n",
    "## Advantages\n",
    "\n",
    "- **Reduced Boilerplate**: Automatically generates boilerplate code for common methods like `__init__`, making class definitions cleaner and more readable.\n",
    "- **Improved Readability and Maintainability**: Clear syntax and the use of type hints make the code more readable and easier to maintain.\n"
   ]
  },
  {
   "cell_type": "markdown",
   "id": "65a49285",
   "metadata": {},
   "source": [
    "### Basic usage"
   ]
  },
  {
   "cell_type": "markdown",
   "id": "1fe52223",
   "metadata": {},
   "source": [
    "Using a regular class (without `@dataclass`)"
   ]
  },
  {
   "cell_type": "code",
   "execution_count": 82,
   "id": "ae435cb0",
   "metadata": {},
   "outputs": [],
   "source": [
    "class Person:\n",
    "    def __init__(self, name: str, age: int, city: str):\n",
    "        self.name = name\n",
    "        self.age = age\n",
    "        self.city = city\n",
    "\n",
    "    def __repr__(self):\n",
    "        return f\"Person(name={self.name!r}, age={self.age!r}, city={self.city!r})\"\n",
    "\n",
    "    def __eq__(self, other):\n",
    "        if isinstance(other, Person):\n",
    "            return (self.name, self.age, self.city) == (other.name, other.age, other.city)\n",
    "        return False\n",
    "\n",
    "    # You might also want to implement __ne__, __lt__, __le__, __gt__, __ge__ for comparisons."
   ]
  },
  {
   "cell_type": "code",
   "execution_count": 83,
   "id": "c7ddae25",
   "metadata": {},
   "outputs": [
    {
     "name": "stdout",
     "output_type": "stream",
     "text": [
      "Person(name='Alice', age=30, city='New York')\n",
      "True\n"
     ]
    }
   ],
   "source": [
    "p1 = Person(name=\"Alice\", age=30, city=\"New York\")\n",
    "\n",
    "print(p1)\n",
    "\n",
    "p2 = Person(name=\"Alice\", age=30, city=\"New York\")\n",
    "\n",
    "print(p1 == p2)"
   ]
  },
  {
   "cell_type": "markdown",
   "id": "d0cd656a",
   "metadata": {},
   "source": [
    "Using a data class (with `@dataclass`) makes things look much simpler."
   ]
  },
  {
   "cell_type": "code",
   "execution_count": 84,
   "id": "fec3c9c5",
   "metadata": {},
   "outputs": [],
   "source": [
    "from dataclasses import dataclass\n",
    "\n",
    "@dataclass\n",
    "class Person:\n",
    "    name: str\n",
    "    age: int\n",
    "    city: str"
   ]
  },
  {
   "cell_type": "code",
   "execution_count": 85,
   "id": "7915c77c",
   "metadata": {},
   "outputs": [
    {
     "name": "stdout",
     "output_type": "stream",
     "text": [
      "Person(name='Alice', age=30, city='New York')\n",
      "True\n"
     ]
    }
   ],
   "source": [
    "p1 = Person(name=\"Alice\", age=30, city=\"New York\")\n",
    "\n",
    "print(p1)\n",
    "\n",
    "p2 = Person(name=\"Alice\", age=30, city=\"New York\")\n",
    "\n",
    "print(p1 == p2)"
   ]
  },
  {
   "cell_type": "markdown",
   "id": "f7d7cb55",
   "metadata": {},
   "source": [
    "### Adding default values"
   ]
  },
  {
   "cell_type": "code",
   "execution_count": 86,
   "id": "26bd5242",
   "metadata": {},
   "outputs": [
    {
     "name": "stdout",
     "output_type": "stream",
     "text": [
      "Car(brand='Tesla', model='Model 3', year=2023)\n"
     ]
    }
   ],
   "source": [
    "@dataclass\n",
    "class Car:\n",
    "    brand: str\n",
    "    model: str\n",
    "    year: int = 2023  # Default value\n",
    "\n",
    "car = Car(brand=\"Tesla\", model=\"Model 3\")\n",
    "\n",
    "print(car)"
   ]
  },
  {
   "cell_type": "markdown",
   "id": "67069fc8",
   "metadata": {},
   "source": [
    "Non-default arguments cannot follow default arguments as shown in the following example."
   ]
  },
  {
   "cell_type": "code",
   "execution_count": 87,
   "id": "3f26728e",
   "metadata": {},
   "outputs": [
    {
     "ename": "TypeError",
     "evalue": "non-default argument 'model' follows default argument",
     "output_type": "error",
     "traceback": [
      "\u001b[0;31m---------------------------------------------------------------------------\u001b[0m",
      "\u001b[0;31mTypeError\u001b[0m                                 Traceback (most recent call last)",
      "Cell \u001b[0;32mIn[87], line 1\u001b[0m\n\u001b[0;32m----> 1\u001b[0m \u001b[38;5;129;43m@dataclass\u001b[39;49m\n\u001b[1;32m      2\u001b[0m \u001b[38;5;28;43;01mclass\u001b[39;49;00m\u001b[43m \u001b[49m\u001b[38;5;21;43;01mCar\u001b[39;49;00m\u001b[43m:\u001b[49m\n\u001b[1;32m      3\u001b[0m \u001b[43m    \u001b[49m\u001b[43mbrand\u001b[49m\u001b[43m:\u001b[49m\u001b[43m \u001b[49m\u001b[38;5;28;43mstr\u001b[39;49m\n\u001b[1;32m      4\u001b[0m \u001b[43m    \u001b[49m\u001b[43myear\u001b[49m\u001b[43m:\u001b[49m\u001b[43m \u001b[49m\u001b[38;5;28;43mint\u001b[39;49m\u001b[43m \u001b[49m\u001b[38;5;241;43m=\u001b[39;49m\u001b[43m \u001b[49m\u001b[38;5;241;43m2023\u001b[39;49m\n",
      "File \u001b[0;32m~/miniconda3/envs/torch/lib/python3.12/dataclasses.py:1275\u001b[0m, in \u001b[0;36mdataclass\u001b[0;34m(cls, init, repr, eq, order, unsafe_hash, frozen, match_args, kw_only, slots, weakref_slot)\u001b[0m\n\u001b[1;32m   1272\u001b[0m     \u001b[38;5;28;01mreturn\u001b[39;00m wrap\n\u001b[1;32m   1274\u001b[0m \u001b[38;5;66;03m# We're called as @dataclass without parens.\u001b[39;00m\n\u001b[0;32m-> 1275\u001b[0m \u001b[38;5;28;01mreturn\u001b[39;00m \u001b[43mwrap\u001b[49m\u001b[43m(\u001b[49m\u001b[38;5;28;43mcls\u001b[39;49m\u001b[43m)\u001b[49m\n",
      "File \u001b[0;32m~/miniconda3/envs/torch/lib/python3.12/dataclasses.py:1265\u001b[0m, in \u001b[0;36mdataclass.<locals>.wrap\u001b[0;34m(cls)\u001b[0m\n\u001b[1;32m   1264\u001b[0m \u001b[38;5;28;01mdef\u001b[39;00m \u001b[38;5;21mwrap\u001b[39m(\u001b[38;5;28mcls\u001b[39m):\n\u001b[0;32m-> 1265\u001b[0m     \u001b[38;5;28;01mreturn\u001b[39;00m \u001b[43m_process_class\u001b[49m\u001b[43m(\u001b[49m\u001b[38;5;28;43mcls\u001b[39;49m\u001b[43m,\u001b[49m\u001b[43m \u001b[49m\u001b[43minit\u001b[49m\u001b[43m,\u001b[49m\u001b[43m \u001b[49m\u001b[38;5;28;43mrepr\u001b[39;49m\u001b[43m,\u001b[49m\u001b[43m \u001b[49m\u001b[43meq\u001b[49m\u001b[43m,\u001b[49m\u001b[43m \u001b[49m\u001b[43morder\u001b[49m\u001b[43m,\u001b[49m\u001b[43m \u001b[49m\u001b[43munsafe_hash\u001b[49m\u001b[43m,\u001b[49m\n\u001b[1;32m   1266\u001b[0m \u001b[43m                          \u001b[49m\u001b[43mfrozen\u001b[49m\u001b[43m,\u001b[49m\u001b[43m \u001b[49m\u001b[43mmatch_args\u001b[49m\u001b[43m,\u001b[49m\u001b[43m \u001b[49m\u001b[43mkw_only\u001b[49m\u001b[43m,\u001b[49m\u001b[43m \u001b[49m\u001b[43mslots\u001b[49m\u001b[43m,\u001b[49m\n\u001b[1;32m   1267\u001b[0m \u001b[43m                          \u001b[49m\u001b[43mweakref_slot\u001b[49m\u001b[43m)\u001b[49m\n",
      "File \u001b[0;32m~/miniconda3/envs/torch/lib/python3.12/dataclasses.py:1063\u001b[0m, in \u001b[0;36m_process_class\u001b[0;34m(cls, init, repr, eq, order, unsafe_hash, frozen, match_args, kw_only, slots, weakref_slot)\u001b[0m\n\u001b[1;32m   1058\u001b[0m \u001b[38;5;28;01mif\u001b[39;00m init:\n\u001b[1;32m   1059\u001b[0m     \u001b[38;5;66;03m# Does this class have a post-init function?\u001b[39;00m\n\u001b[1;32m   1060\u001b[0m     has_post_init \u001b[38;5;241m=\u001b[39m \u001b[38;5;28mhasattr\u001b[39m(\u001b[38;5;28mcls\u001b[39m, _POST_INIT_NAME)\n\u001b[1;32m   1062\u001b[0m     _set_new_attribute(\u001b[38;5;28mcls\u001b[39m, \u001b[38;5;124m'\u001b[39m\u001b[38;5;124m__init__\u001b[39m\u001b[38;5;124m'\u001b[39m,\n\u001b[0;32m-> 1063\u001b[0m                        \u001b[43m_init_fn\u001b[49m\u001b[43m(\u001b[49m\u001b[43mall_init_fields\u001b[49m\u001b[43m,\u001b[49m\n\u001b[1;32m   1064\u001b[0m \u001b[43m                                \u001b[49m\u001b[43mstd_init_fields\u001b[49m\u001b[43m,\u001b[49m\n\u001b[1;32m   1065\u001b[0m \u001b[43m                                \u001b[49m\u001b[43mkw_only_init_fields\u001b[49m\u001b[43m,\u001b[49m\n\u001b[1;32m   1066\u001b[0m \u001b[43m                                \u001b[49m\u001b[43mfrozen\u001b[49m\u001b[43m,\u001b[49m\n\u001b[1;32m   1067\u001b[0m \u001b[43m                                \u001b[49m\u001b[43mhas_post_init\u001b[49m\u001b[43m,\u001b[49m\n\u001b[1;32m   1068\u001b[0m \u001b[43m                                \u001b[49m\u001b[38;5;66;43;03m# The name to use for the \"self\"\u001b[39;49;00m\n\u001b[1;32m   1069\u001b[0m \u001b[43m                                \u001b[49m\u001b[38;5;66;43;03m# param in __init__.  Use \"self\"\u001b[39;49;00m\n\u001b[1;32m   1070\u001b[0m \u001b[43m                                \u001b[49m\u001b[38;5;66;43;03m# if possible.\u001b[39;49;00m\n\u001b[1;32m   1071\u001b[0m \u001b[43m                                \u001b[49m\u001b[38;5;124;43m'\u001b[39;49m\u001b[38;5;124;43m__dataclass_self__\u001b[39;49m\u001b[38;5;124;43m'\u001b[39;49m\u001b[43m \u001b[49m\u001b[38;5;28;43;01mif\u001b[39;49;00m\u001b[43m \u001b[49m\u001b[38;5;124;43m'\u001b[39;49m\u001b[38;5;124;43mself\u001b[39;49m\u001b[38;5;124;43m'\u001b[39;49m\u001b[43m \u001b[49m\u001b[38;5;129;43;01min\u001b[39;49;00m\u001b[43m \u001b[49m\u001b[43mfields\u001b[49m\n\u001b[1;32m   1072\u001b[0m \u001b[43m                                        \u001b[49m\u001b[38;5;28;43;01melse\u001b[39;49;00m\u001b[43m \u001b[49m\u001b[38;5;124;43m'\u001b[39;49m\u001b[38;5;124;43mself\u001b[39;49m\u001b[38;5;124;43m'\u001b[39;49m\u001b[43m,\u001b[49m\n\u001b[1;32m   1073\u001b[0m \u001b[43m                                \u001b[49m\u001b[38;5;28;43mglobals\u001b[39;49m\u001b[43m,\u001b[49m\n\u001b[1;32m   1074\u001b[0m \u001b[43m                                \u001b[49m\u001b[43mslots\u001b[49m\u001b[43m,\u001b[49m\n\u001b[1;32m   1075\u001b[0m \u001b[43m                      \u001b[49m\u001b[43m)\u001b[49m)\n\u001b[1;32m   1077\u001b[0m \u001b[38;5;66;03m# Get the fields as a list, and include only real fields.  This is\u001b[39;00m\n\u001b[1;32m   1078\u001b[0m \u001b[38;5;66;03m# used in all of the following methods.\u001b[39;00m\n\u001b[1;32m   1079\u001b[0m field_list \u001b[38;5;241m=\u001b[39m [f \u001b[38;5;28;01mfor\u001b[39;00m f \u001b[38;5;129;01min\u001b[39;00m fields\u001b[38;5;241m.\u001b[39mvalues() \u001b[38;5;28;01mif\u001b[39;00m f\u001b[38;5;241m.\u001b[39m_field_type \u001b[38;5;129;01mis\u001b[39;00m _FIELD]\n",
      "File \u001b[0;32m~/miniconda3/envs/torch/lib/python3.12/dataclasses.py:585\u001b[0m, in \u001b[0;36m_init_fn\u001b[0;34m(fields, std_fields, kw_only_fields, frozen, has_post_init, self_name, globals, slots)\u001b[0m\n\u001b[1;32m    583\u001b[0m             seen_default \u001b[38;5;241m=\u001b[39m \u001b[38;5;28;01mTrue\u001b[39;00m\n\u001b[1;32m    584\u001b[0m         \u001b[38;5;28;01melif\u001b[39;00m seen_default:\n\u001b[0;32m--> 585\u001b[0m             \u001b[38;5;28;01mraise\u001b[39;00m \u001b[38;5;167;01mTypeError\u001b[39;00m(\u001b[38;5;124mf\u001b[39m\u001b[38;5;124m'\u001b[39m\u001b[38;5;124mnon-default argument \u001b[39m\u001b[38;5;132;01m{\u001b[39;00mf\u001b[38;5;241m.\u001b[39mname\u001b[38;5;132;01m!r}\u001b[39;00m\u001b[38;5;124m \u001b[39m\u001b[38;5;124m'\u001b[39m\n\u001b[1;32m    586\u001b[0m                             \u001b[38;5;124m'\u001b[39m\u001b[38;5;124mfollows default argument\u001b[39m\u001b[38;5;124m'\u001b[39m)\n\u001b[1;32m    588\u001b[0m \u001b[38;5;28mlocals\u001b[39m \u001b[38;5;241m=\u001b[39m {\u001b[38;5;124mf\u001b[39m\u001b[38;5;124m'\u001b[39m\u001b[38;5;124m__dataclass_type_\u001b[39m\u001b[38;5;132;01m{\u001b[39;00mf\u001b[38;5;241m.\u001b[39mname\u001b[38;5;132;01m}\u001b[39;00m\u001b[38;5;124m__\u001b[39m\u001b[38;5;124m'\u001b[39m: f\u001b[38;5;241m.\u001b[39mtype \u001b[38;5;28;01mfor\u001b[39;00m f \u001b[38;5;129;01min\u001b[39;00m fields}\n\u001b[1;32m    589\u001b[0m \u001b[38;5;28mlocals\u001b[39m\u001b[38;5;241m.\u001b[39mupdate({\n\u001b[1;32m    590\u001b[0m     \u001b[38;5;124m'\u001b[39m\u001b[38;5;124m__dataclass_HAS_DEFAULT_FACTORY__\u001b[39m\u001b[38;5;124m'\u001b[39m: _HAS_DEFAULT_FACTORY,\n\u001b[1;32m    591\u001b[0m     \u001b[38;5;124m'\u001b[39m\u001b[38;5;124m__dataclass_builtins_object__\u001b[39m\u001b[38;5;124m'\u001b[39m: \u001b[38;5;28mobject\u001b[39m,\n\u001b[1;32m    592\u001b[0m })\n",
      "\u001b[0;31mTypeError\u001b[0m: non-default argument 'model' follows default argument"
     ]
    }
   ],
   "source": [
    "@dataclass\n",
    "class Car:\n",
    "    brand: str\n",
    "    year: int = 2023\n",
    "    model: str"
   ]
  },
  {
   "cell_type": "markdown",
   "id": "a2f45f3a",
   "metadata": {},
   "source": [
    "### Using `field()` for more control\n",
    "\n",
    "Use `dataclasses.field()` to specify metadata, default values, or prevent initialization."
   ]
  },
  {
   "cell_type": "code",
   "execution_count": 89,
   "id": "3089324b",
   "metadata": {},
   "outputs": [
    {
     "name": "stdout",
     "output_type": "stream",
     "text": [
      "Book(title='Python Basics', author='John Doe', pages=250, genre='Unknown', reviews=[], id_=1842719148755844202)\n"
     ]
    }
   ],
   "source": [
    "from dataclasses import field\n",
    "\n",
    "@dataclass\n",
    "class Book:\n",
    "    title: str\n",
    "    author: str\n",
    "    pages: int\n",
    "    genre: str = field(default=\"Unknown\")  # Default value using field()\n",
    "    reviews: list[str] = field(default_factory=list) # Default value by factory using field()\n",
    "    id_: int = field(init=False)  # Excluded from __init__\n",
    "\n",
    "    def __post_init__(self):\n",
    "        self.id_ = hash(f\"{self.title}{self.author}\")  # Custom logic after init\n",
    "\n",
    "book = Book(\"Python Basics\", \"John Doe\", 250)\n",
    "\n",
    "print(book)"
   ]
  },
  {
   "cell_type": "markdown",
   "id": "3b827c91",
   "metadata": {},
   "source": [
    "### Mutable vs. Immutable dataclasses\n",
    "\n",
    "By default, data classes are mutable, but you can make them immutable using `frozen=True`."
   ]
  },
  {
   "cell_type": "code",
   "execution_count": 90,
   "id": "f76bd3a0",
   "metadata": {},
   "outputs": [],
   "source": [
    "@dataclass(frozen=True)\n",
    "class Point:\n",
    "    x: int\n",
    "    y: int"
   ]
  },
  {
   "cell_type": "code",
   "execution_count": 93,
   "id": "8c32061d",
   "metadata": {},
   "outputs": [
    {
     "ename": "FrozenInstanceError",
     "evalue": "cannot assign to field 'x'",
     "output_type": "error",
     "traceback": [
      "\u001b[0;31m---------------------------------------------------------------------------\u001b[0m",
      "\u001b[0;31mFrozenInstanceError\u001b[0m                       Traceback (most recent call last)",
      "Cell \u001b[0;32mIn[93], line 2\u001b[0m\n\u001b[1;32m      1\u001b[0m p \u001b[38;5;241m=\u001b[39m Point(\u001b[38;5;241m2\u001b[39m, \u001b[38;5;241m3\u001b[39m)\n\u001b[0;32m----> 2\u001b[0m \u001b[43mp\u001b[49m\u001b[38;5;241;43m.\u001b[39;49m\u001b[43mx\u001b[49m \u001b[38;5;241m=\u001b[39m \u001b[38;5;241m5\u001b[39m \u001b[38;5;66;03m# raises an error\u001b[39;00m\n",
      "File \u001b[0;32m<string>:4\u001b[0m, in \u001b[0;36m__setattr__\u001b[0;34m(self, name, value)\u001b[0m\n",
      "\u001b[0;31mFrozenInstanceError\u001b[0m: cannot assign to field 'x'"
     ]
    }
   ],
   "source": [
    "p = Point(2, 3)\n",
    "p.x = 5 # raises an error"
   ]
  },
  {
   "cell_type": "markdown",
   "id": "11198cd7",
   "metadata": {},
   "source": [
    "Even though the data class is immutable, we can modify its properties if they are mutable as shown in the example below."
   ]
  },
  {
   "cell_type": "code",
   "execution_count": 94,
   "id": "40acb5a1",
   "metadata": {},
   "outputs": [],
   "source": [
    "@dataclass(frozen=True)\n",
    "class Book:\n",
    "    title: str\n",
    "    author: str\n",
    "    pages: int\n",
    "    reviews: list[str]"
   ]
  },
  {
   "cell_type": "code",
   "execution_count": 95,
   "id": "f68e53f3",
   "metadata": {},
   "outputs": [
    {
     "name": "stdout",
     "output_type": "stream",
     "text": [
      "Book(title='Python Basics', author='John Doe', pages=250, reviews=['This is a great book!', \"I don't like this book.\"])\n"
     ]
    }
   ],
   "source": [
    "book = Book(\"Python Basics\", \"John Doe\", 250, [\"This is a great book!\"])\n",
    "book.reviews.append(\"I don't like this book.\")\n",
    "\n",
    "print(book)"
   ]
  },
  {
   "cell_type": "markdown",
   "id": "c5352b2d",
   "metadata": {},
   "source": [
    "### Dataclass with inheritance"
   ]
  },
  {
   "cell_type": "code",
   "execution_count": 110,
   "id": "c2f0b917",
   "metadata": {},
   "outputs": [
    {
     "name": "stdout",
     "output_type": "stream",
     "text": [
      "Manager(name='Jane', salary=90000, department='Data Science')\n"
     ]
    }
   ],
   "source": [
    "@dataclass\n",
    "class Employee:\n",
    "    name: str # No one cares types here\n",
    "    salary: float\n",
    "\n",
    "@dataclass\n",
    "class Manager(Employee):\n",
    "    department: str\n",
    "\n",
    "manager = Manager(\"Jane\", 90000, \"Data Science\")\n",
    "\n",
    "print(manager)"
   ]
  },
  {
   "cell_type": "markdown",
   "id": "42644f6d",
   "metadata": {},
   "source": [
    "### Converting data class to dictionary\n",
    "\n",
    "Use `asdict(`) to convert a dataclass instance into a dictionary."
   ]
  },
  {
   "cell_type": "code",
   "execution_count": 111,
   "id": "3a3e0d9b",
   "metadata": {},
   "outputs": [
    {
     "data": {
      "text/plain": [
       "{'name': 'Bob', 'age': 40, 'city': 'London'}"
      ]
     },
     "execution_count": 111,
     "metadata": {},
     "output_type": "execute_result"
    }
   ],
   "source": [
    "from dataclasses import asdict\n",
    "\n",
    "person = Person(\"Bob\", 40, \"London\")\n",
    "\n",
    "asdict(person)"
   ]
  },
  {
   "cell_type": "markdown",
   "id": "a9b2817c",
   "metadata": {},
   "source": [
    "### Programmatically create data class"
   ]
  },
  {
   "cell_type": "markdown",
   "id": "37d67bd9",
   "metadata": {},
   "source": [
    "You can use `dataclasses.make_dataclass()` to programmatically define data classess. "
   ]
  },
  {
   "cell_type": "code",
   "execution_count": 113,
   "id": "33d240ef",
   "metadata": {},
   "outputs": [],
   "source": [
    "from dataclasses import make_dataclass\n",
    "\n",
    "Position = make_dataclass(\"Position\", [\"name\", \"lat\", \"lon\"])"
   ]
  },
  {
   "cell_type": "code",
   "execution_count": 114,
   "id": "fe81773a",
   "metadata": {},
   "outputs": [
    {
     "data": {
      "text/plain": [
       "Position(name='Yerevan', lat=40.2, lon=44.5)"
      ]
     },
     "execution_count": 114,
     "metadata": {},
     "output_type": "execute_result"
    }
   ],
   "source": [
    "pos = Position(\"Yerevan\", 40.2, 44.5)\n",
    "\n",
    "pos"
   ]
  },
  {
   "cell_type": "markdown",
   "id": "07122444",
   "metadata": {},
   "source": [
    "## Using `__slots__`\n",
    "\n",
    "Slots can be used to make classes faster and use less memory. They have the following benefits:\n",
    "\n",
    "- Reduces memory usage\n",
    "- Speeds up attribute access\n",
    "- Prevents accidental attribute creation\n",
    "\n",
    "Slots are defined using `__slots__` to list the variables on a class. Variables or attributes not present in `__slots__` may not be defined."
   ]
  },
  {
   "cell_type": "code",
   "execution_count": 134,
   "id": "4358e088",
   "metadata": {},
   "outputs": [
    {
     "data": {
      "text/plain": [
       "'Alice'"
      ]
     },
     "execution_count": 134,
     "metadata": {},
     "output_type": "execute_result"
    }
   ],
   "source": [
    "@dataclass\n",
    "class Person:\n",
    "    __slots__ = (\"name\", \"age\", \"city\")\n",
    "    \n",
    "    name: str\n",
    "    age: int\n",
    "    city: str\n",
    "\n",
    "p = Person(\"Alice\", 30, \"New York\")\n",
    "\n",
    "p.name"
   ]
  },
  {
   "cell_type": "markdown",
   "id": "7d6c7d3d",
   "metadata": {},
   "source": [
    "In Python 3.10+, you can enable slots in a data class by setting `slots=True`."
   ]
  },
  {
   "cell_type": "code",
   "execution_count": 135,
   "id": "ac15bccb",
   "metadata": {},
   "outputs": [
    {
     "name": "stdout",
     "output_type": "stream",
     "text": [
      "Person(name='Alice', age=30, city='New York')\n"
     ]
    },
    {
     "data": {
      "text/plain": [
       "('name', 'age', 'city')"
      ]
     },
     "execution_count": 135,
     "metadata": {},
     "output_type": "execute_result"
    }
   ],
   "source": [
    "@dataclass(slots=True)\n",
    "class Person:    \n",
    "    name: str\n",
    "    age: int\n",
    "    city: str\n",
    "\n",
    "p = Person(\"Alice\", 30, \"New York\")\n",
    "\n",
    "p.name\n",
    "print(p)\n",
    "p.__slots__"
   ]
  },
  {
   "cell_type": "markdown",
   "id": "7fcf9bcc",
   "metadata": {},
   "source": [
    "Slots prevent the creation of an instance dictionary (`__dict__`), which reduces memory usage and speeds up attribute access."
   ]
  },
  {
   "cell_type": "code",
   "execution_count": 136,
   "id": "69a59ed4",
   "metadata": {},
   "outputs": [
    {
     "ename": "AttributeError",
     "evalue": "'Person' object has no attribute '__dict__'",
     "output_type": "error",
     "traceback": [
      "\u001b[0;31m---------------------------------------------------------------------------\u001b[0m",
      "\u001b[0;31mAttributeError\u001b[0m                            Traceback (most recent call last)",
      "Cell \u001b[0;32mIn[136], line 1\u001b[0m\n\u001b[0;32m----> 1\u001b[0m \u001b[43mp\u001b[49m\u001b[38;5;241;43m.\u001b[39;49m\u001b[38;5;18;43m__dict__\u001b[39;49m \u001b[38;5;66;03m# throws an error\u001b[39;00m\n",
      "\u001b[0;31mAttributeError\u001b[0m: 'Person' object has no attribute '__dict__'"
     ]
    }
   ],
   "source": [
    "p.__dict__ # throws an error"
   ]
  },
  {
   "cell_type": "markdown",
   "id": "5d124fe2",
   "metadata": {},
   "source": [
    "### Memory savings"
   ]
  },
  {
   "cell_type": "code",
   "execution_count": 137,
   "id": "991444d6",
   "metadata": {},
   "outputs": [
    {
     "name": "stdout",
     "output_type": "stream",
     "text": [
      "Collecting pympler\n",
      "  Downloading Pympler-1.1-py3-none-any.whl.metadata (3.6 kB)\n",
      "Downloading Pympler-1.1-py3-none-any.whl (165 kB)\n",
      "Installing collected packages: pympler\n",
      "Successfully installed pympler-1.1\n"
     ]
    }
   ],
   "source": [
    "!pip install pympler # to measure the memory consumption of Python objects"
   ]
  },
  {
   "cell_type": "markdown",
   "id": "41146aba",
   "metadata": {},
   "source": [
    "**Note:** If the following does not work, please save the following code in a Python script file (e.g. `slot_memory.py`) and run it in an environment where `pympler` is installed (e.g. `python slot_memory.py`)."
   ]
  },
  {
   "cell_type": "code",
   "execution_count": 138,
   "id": "a76c4f2b",
   "metadata": {},
   "outputs": [
    {
     "name": "stdout",
     "output_type": "stream",
     "text": [
      "Simple memory: 624\n",
      "Slot memory: 192\n",
      "Simple to slot memory ratio: 3.25\n"
     ]
    }
   ],
   "source": [
    "from dataclasses import dataclass\n",
    "\n",
    "from pympler import asizeof\n",
    "\n",
    "@dataclass\n",
    "class SimplePerson:\n",
    "    name: str\n",
    "    age: int\n",
    "    city: str\n",
    "\n",
    "@dataclass(slots=True)\n",
    "class SlotPerson:\n",
    "    name: str\n",
    "    age: int\n",
    "    city: str\n",
    "\n",
    "simple = SimplePerson(\"Alice\", 30, \"New York\")\n",
    "slot = SlotPerson(\"Alice\", 30, \"New York\")\n",
    "\n",
    "simple_mem = asizeof.asizeof(simple)\n",
    "slot_mem = asizeof.asizeof(slot)\n",
    "\n",
    "print(f\"Simple memory: {simple_mem}\")\n",
    "print(f\"Slot memory: {slot_mem}\")\n",
    "print(f\"Simple to slot memory ratio: {simple_mem / slot_mem}\")"
   ]
  },
  {
   "cell_type": "markdown",
   "id": "b00e4db9",
   "metadata": {},
   "source": [
    "### Performance speedup"
   ]
  },
  {
   "cell_type": "code",
   "execution_count": 161,
   "id": "6cb2a171",
   "metadata": {},
   "outputs": [
    {
     "name": "stdout",
     "output_type": "stream",
     "text": [
      "Simple time: 0.013726375065743923\n",
      "Slot time: 0.009094250039197505\n",
      "Simple to slot time ratio: 1.5093465658609895\n"
     ]
    }
   ],
   "source": [
    "from timeit import timeit\n",
    "\n",
    "simple_time = timeit('simple.name', setup=\"simple=SimplePerson('Alice', 30, 'New York')\", globals=globals())\n",
    "slot_time = timeit('slot.name', setup=\"slot=SlotPerson('Alice', 30, 'New York')\", globals=globals())\n",
    "\n",
    "print(f\"Simple time: {simple_time}\")\n",
    "print(f\"Slot time: {slot_time}\")\n",
    "print(f\"Simple to slot time ratio: {simple_time / slot_time}\")"
   ]
  },
  {
   "cell_type": "markdown",
   "id": "dd22e3fc",
   "metadata": {},
   "source": [
    "## Prevents accidental attribute creation"
   ]
  },
  {
   "cell_type": "code",
   "execution_count": 162,
   "id": "7fad7cb3",
   "metadata": {},
   "outputs": [],
   "source": [
    "@dataclass\n",
    "class Person:    \n",
    "    name: str\n",
    "    age: int\n",
    "    city: str"
   ]
  },
  {
   "cell_type": "code",
   "execution_count": 163,
   "id": "03d291c8",
   "metadata": {},
   "outputs": [
    {
     "data": {
      "text/plain": [
       "Person(name='Bob', age=40, city='London')"
      ]
     },
     "execution_count": 163,
     "metadata": {},
     "output_type": "execute_result"
    }
   ],
   "source": [
    "p = Person(\"Bob\", 40, \"London\")\n",
    "p.country = \"UK\" # Works as usual\n",
    "\n",
    "p"
   ]
  },
  {
   "cell_type": "code",
   "execution_count": 164,
   "id": "ee52319e",
   "metadata": {},
   "outputs": [],
   "source": [
    "@dataclass(slots=True)\n",
    "class Person:\n",
    "    name: str\n",
    "    age: int\n",
    "    city: str"
   ]
  },
  {
   "cell_type": "code",
   "execution_count": 165,
   "id": "5f4d811a",
   "metadata": {},
   "outputs": [
    {
     "ename": "AttributeError",
     "evalue": "'Person' object has no attribute 'country'",
     "output_type": "error",
     "traceback": [
      "\u001b[0;31m---------------------------------------------------------------------------\u001b[0m",
      "\u001b[0;31mAttributeError\u001b[0m                            Traceback (most recent call last)",
      "Cell \u001b[0;32mIn[165], line 2\u001b[0m\n\u001b[1;32m      1\u001b[0m p \u001b[38;5;241m=\u001b[39m Person(\u001b[38;5;124m\"\u001b[39m\u001b[38;5;124mBob\u001b[39m\u001b[38;5;124m\"\u001b[39m, \u001b[38;5;241m40\u001b[39m, \u001b[38;5;124m\"\u001b[39m\u001b[38;5;124mLondon\u001b[39m\u001b[38;5;124m\"\u001b[39m)\n\u001b[0;32m----> 2\u001b[0m \u001b[43mp\u001b[49m\u001b[38;5;241;43m.\u001b[39;49m\u001b[43mcountry\u001b[49m \u001b[38;5;241m=\u001b[39m \u001b[38;5;124m\"\u001b[39m\u001b[38;5;124mUK\u001b[39m\u001b[38;5;124m\"\u001b[39m  \u001b[38;5;66;03m# throws an error\u001b[39;00m\n",
      "\u001b[0;31mAttributeError\u001b[0m: 'Person' object has no attribute 'country'"
     ]
    }
   ],
   "source": [
    "p = Person(\"Bob\", 40, \"London\")\n",
    "p.country = \"UK\"  # throws an error"
   ]
  },
  {
   "cell_type": "markdown",
   "id": "2d7150ba",
   "metadata": {},
   "source": [
    "# `collections` module\n",
    "\n",
    "The `collections` module provides specialized container datatypes that extend the functionality of built-in types like lists, tuples, and dictionaries.\n",
    "\n",
    "Reference: [collections — Container datatypes](https://docs.python.org/3/library/collections.html)"
   ]
  },
  {
   "cell_type": "markdown",
   "id": "363a9210",
   "metadata": {},
   "source": [
    "## `Counter`\n",
    "\n",
    "- A subclass of `dict` for counting hashable objects.\n",
    "- Useful for frequency counting."
   ]
  },
  {
   "cell_type": "code",
   "execution_count": 172,
   "id": "0ee720e4",
   "metadata": {},
   "outputs": [],
   "source": [
    "from collections import Counter"
   ]
  },
  {
   "cell_type": "code",
   "execution_count": 189,
   "id": "2de5b634",
   "metadata": {},
   "outputs": [],
   "source": [
    "letters = [str(i % 8) for i in range(int(1e5))]"
   ]
  },
  {
   "cell_type": "code",
   "execution_count": 190,
   "id": "a92c9c54",
   "metadata": {},
   "outputs": [
    {
     "name": "stdout",
     "output_type": "stream",
     "text": [
      "duration:  0.011994333006441593\n"
     ]
    },
    {
     "data": {
      "text/plain": [
       "{'0': 12500,\n",
       " '1': 12500,\n",
       " '2': 12500,\n",
       " '3': 12500,\n",
       " '4': 12500,\n",
       " '5': 12500,\n",
       " '6': 12500,\n",
       " '7': 12500}"
      ]
     },
     "execution_count": 190,
     "metadata": {},
     "output_type": "execute_result"
    }
   ],
   "source": [
    "# Traditional way\n",
    "start_time = time.perf_counter()\n",
    "\n",
    "counter = {}\n",
    "\n",
    "for letter in letters:\n",
    "    if letter not in counter:\n",
    "        counter[letter] = 0\n",
    "    counter[letter] += 1\n",
    "\n",
    "end_time = time.perf_counter()\n",
    "print(\"duration: \", end_time - start_time)\n",
    "counter"
   ]
  },
  {
   "cell_type": "code",
   "execution_count": 191,
   "id": "38e025f5",
   "metadata": {},
   "outputs": [
    {
     "name": "stdout",
     "output_type": "stream",
     "text": [
      "duration:  0.00473412498831749\n"
     ]
    },
    {
     "data": {
      "text/plain": [
       "Counter({'0': 12500,\n",
       "         '1': 12500,\n",
       "         '2': 12500,\n",
       "         '3': 12500,\n",
       "         '4': 12500,\n",
       "         '5': 12500,\n",
       "         '6': 12500,\n",
       "         '7': 12500})"
      ]
     },
     "execution_count": 191,
     "metadata": {},
     "output_type": "execute_result"
    }
   ],
   "source": [
    "# Using `Counter`\n",
    "\n",
    "\n",
    "start_time = time.perf_counter()\n",
    "counter = Counter(letters)\n",
    "end_time = time.perf_counter()\n",
    "print(\"duration: \", end_time - start_time)\n",
    "counter\n",
    "counter"
   ]
  },
  {
   "cell_type": "markdown",
   "id": "8c210b76",
   "metadata": {},
   "source": [
    "Access it like a dictionary."
   ]
  },
  {
   "cell_type": "code",
   "execution_count": 192,
   "id": "afebf81b",
   "metadata": {},
   "outputs": [
    {
     "data": {
      "text/plain": [
       "0"
      ]
     },
     "execution_count": 192,
     "metadata": {},
     "output_type": "execute_result"
    }
   ],
   "source": [
    "counter[\"b\"]"
   ]
  },
  {
   "cell_type": "code",
   "execution_count": 193,
   "id": "69ce8ff2",
   "metadata": {},
   "outputs": [
    {
     "data": {
      "text/plain": [
       "1"
      ]
     },
     "execution_count": 193,
     "metadata": {},
     "output_type": "execute_result"
    }
   ],
   "source": [
    "counter[\"c\"] += 1\n",
    "counter[\"c\"]"
   ]
  },
  {
   "cell_type": "code",
   "execution_count": 194,
   "id": "502bcf34",
   "metadata": {},
   "outputs": [
    {
     "data": {
      "text/plain": [
       "0"
      ]
     },
     "execution_count": 194,
     "metadata": {},
     "output_type": "execute_result"
    }
   ],
   "source": [
    "counter[\"d\"] # Not raising a key error"
   ]
  },
  {
   "cell_type": "markdown",
   "id": "31d0d63f",
   "metadata": {},
   "source": [
    "Get top `n` most common elements."
   ]
  },
  {
   "cell_type": "code",
   "execution_count": 195,
   "id": "467bd0c3",
   "metadata": {},
   "outputs": [
    {
     "data": {
      "text/plain": [
       "[('0', 12500)]"
      ]
     },
     "execution_count": 195,
     "metadata": {},
     "output_type": "execute_result"
    }
   ],
   "source": [
    "counter.most_common(1)"
   ]
  },
  {
   "cell_type": "markdown",
   "id": "10129756",
   "metadata": {},
   "source": [
    "Perform mathematical operations on counters"
   ]
  },
  {
   "cell_type": "code",
   "execution_count": 196,
   "id": "f37b1443",
   "metadata": {},
   "outputs": [],
   "source": [
    "c = Counter(a=0, b=42, c=-42)\n",
    "\n",
    "c1 = Counter(apple=21, banana=34)\n",
    "c2 = Counter(apple=12, banana=42, orange=7)\n",
    "c3 = Counter(apple=42, banana=42)"
   ]
  },
  {
   "cell_type": "code",
   "execution_count": 197,
   "id": "b0816624",
   "metadata": {},
   "outputs": [
    {
     "data": {
      "text/plain": [
       "55"
      ]
     },
     "execution_count": 197,
     "metadata": {},
     "output_type": "execute_result"
    }
   ],
   "source": [
    "c1.total() # total of all counts"
   ]
  },
  {
   "cell_type": "code",
   "execution_count": 198,
   "id": "74737df9",
   "metadata": {},
   "outputs": [
    {
     "data": {
      "text/plain": [
       "{'apple': 21, 'banana': 34}"
      ]
     },
     "execution_count": 198,
     "metadata": {},
     "output_type": "execute_result"
    }
   ],
   "source": [
    "dict(c1) # convert to a regular dictionary"
   ]
  },
  {
   "cell_type": "code",
   "execution_count": null,
   "id": "669dfdea",
   "metadata": {},
   "outputs": [],
   "source": [
    "c = Counter(a=0, b=42, c=-42)\n",
    "\n",
    "+c # remove zero and negative counts"
   ]
  },
  {
   "cell_type": "code",
   "execution_count": 199,
   "id": "392848a1",
   "metadata": {},
   "outputs": [
    {
     "data": {
      "text/plain": [
       "Counter()"
      ]
     },
     "execution_count": 199,
     "metadata": {},
     "output_type": "execute_result"
    }
   ],
   "source": [
    "c.clear() # reset all counts\n",
    "\n",
    "c"
   ]
  },
  {
   "cell_type": "code",
   "execution_count": 200,
   "id": "d4e08e76",
   "metadata": {},
   "outputs": [
    {
     "data": {
      "text/plain": [
       "Counter({'banana': 76, 'apple': 33, 'orange': 7})"
      ]
     },
     "execution_count": 200,
     "metadata": {},
     "output_type": "execute_result"
    }
   ],
   "source": [
    "c1 + c2 # add two counters together"
   ]
  },
  {
   "cell_type": "code",
   "execution_count": 201,
   "id": "5a8ae18d",
   "metadata": {},
   "outputs": [
    {
     "data": {
      "text/plain": [
       "Counter({'apple': 9})"
      ]
     },
     "execution_count": 201,
     "metadata": {},
     "output_type": "execute_result"
    }
   ],
   "source": [
    "c1 - c2 # subtract (keeping only positive counts)"
   ]
  },
  {
   "cell_type": "code",
   "execution_count": 202,
   "id": "cd05fe29",
   "metadata": {},
   "outputs": [
    {
     "data": {
      "text/plain": [
       "Counter({'banana': 34, 'apple': 12})"
      ]
     },
     "execution_count": 202,
     "metadata": {},
     "output_type": "execute_result"
    }
   ],
   "source": [
    "c1 & c2 # intersection:  min(c1[x], c2[x])"
   ]
  },
  {
   "cell_type": "code",
   "execution_count": 203,
   "id": "0acac9f4",
   "metadata": {},
   "outputs": [
    {
     "data": {
      "text/plain": [
       "Counter({'banana': 42, 'apple': 21, 'orange': 7})"
      ]
     },
     "execution_count": 203,
     "metadata": {},
     "output_type": "execute_result"
    }
   ],
   "source": [
    "c1 | c2 # union:  max(c1[x], c2[x])"
   ]
  },
  {
   "cell_type": "code",
   "execution_count": 204,
   "id": "844eb905",
   "metadata": {},
   "outputs": [
    {
     "data": {
      "text/plain": [
       "False"
      ]
     },
     "execution_count": 204,
     "metadata": {},
     "output_type": "execute_result"
    }
   ],
   "source": [
    "c1 == c2 # equality"
   ]
  },
  {
   "cell_type": "code",
   "execution_count": 205,
   "id": "9aa33689",
   "metadata": {},
   "outputs": [
    {
     "data": {
      "text/plain": [
       "(True, True)"
      ]
     },
     "execution_count": 205,
     "metadata": {},
     "output_type": "execute_result"
    }
   ],
   "source": [
    "c1 < c3, c1 <= c3 # strict and non-strict inclusion"
   ]
  },
  {
   "cell_type": "markdown",
   "id": "54d2cfb2",
   "metadata": {},
   "source": [
    "## `defaultdict`\n",
    "\n",
    "A dictionary that provides a default value for missing keys."
   ]
  },
  {
   "cell_type": "code",
   "execution_count": 208,
   "id": "9b0a2068",
   "metadata": {},
   "outputs": [],
   "source": [
    "from collections import defaultdict"
   ]
  },
  {
   "cell_type": "code",
   "execution_count": 211,
   "id": "7c3b728a",
   "metadata": {},
   "outputs": [
    {
     "data": {
      "text/plain": [
       "defaultdict(int, {'a': 1, 'b': 2})"
      ]
     },
     "execution_count": 211,
     "metadata": {},
     "output_type": "execute_result"
    }
   ],
   "source": [
    "d = defaultdict(int)  # Default type is int, meaning missing values default to 0\n",
    "\n",
    "d[\"a\"] += 1\n",
    "d[\"b\"] += 2\n",
    "\n",
    "d"
   ]
  },
  {
   "cell_type": "code",
   "execution_count": 212,
   "id": "402ffce5",
   "metadata": {},
   "outputs": [
    {
     "data": {
      "text/plain": [
       "0"
      ]
     },
     "execution_count": 212,
     "metadata": {},
     "output_type": "execute_result"
    }
   ],
   "source": [
    "d[\"n\"]"
   ]
  },
  {
   "cell_type": "code",
   "execution_count": 213,
   "id": "44b9edd4",
   "metadata": {},
   "outputs": [
    {
     "data": {
      "text/plain": [
       "defaultdict(list, {'yellow': [1, 3], 'blue': [2, 4], 'red': [1]})"
      ]
     },
     "execution_count": 213,
     "metadata": {},
     "output_type": "execute_result"
    }
   ],
   "source": [
    "s = [(\"yellow\", 1), (\"blue\", 2), (\"yellow\", 3), (\"blue\", 4), (\"red\", 1)]\n",
    "\n",
    "d = defaultdict(list)  # Default type is list, meaning missing values default to []\n",
    "\n",
    "for k, v in s:\n",
    "    d[k].append(v)\n",
    "    \n",
    "d"
   ]
  },
  {
   "cell_type": "markdown",
   "id": "19313dd1",
   "metadata": {},
   "source": [
    "## `deque`\n",
    "\n",
    "A double-ended queue, optimized for fast insertions and deletions from both ends."
   ]
  },
  {
   "cell_type": "code",
   "execution_count": 214,
   "id": "ff7ea9e6",
   "metadata": {},
   "outputs": [],
   "source": [
    "from collections import deque\n",
    "\n",
    "\n",
    "dq = deque([1, 2, 3])"
   ]
  },
  {
   "cell_type": "code",
   "execution_count": 215,
   "id": "51ea65ca",
   "metadata": {},
   "outputs": [
    {
     "data": {
      "text/plain": [
       "deque([0, 1, 2, 3, 4])"
      ]
     },
     "execution_count": 215,
     "metadata": {},
     "output_type": "execute_result"
    }
   ],
   "source": [
    "dq.append(4)  # Add to the right\n",
    "dq.appendleft(0)  # Add to the left\n",
    "\n",
    "dq"
   ]
  },
  {
   "cell_type": "code",
   "execution_count": 216,
   "id": "8ec0bda8",
   "metadata": {},
   "outputs": [
    {
     "data": {
      "text/plain": [
       "deque([1, 2, 3])"
      ]
     },
     "execution_count": 216,
     "metadata": {},
     "output_type": "execute_result"
    }
   ],
   "source": [
    "dq.pop()  # Remove from right\n",
    "dq.popleft()  # Remove from left\n",
    "\n",
    "dq"
   ]
  },
  {
   "cell_type": "markdown",
   "id": "9ef525eb",
   "metadata": {},
   "source": [
    "## `namedtuple` (tuple with named fields)\n",
    "\n",
    "Creates a lightweight, immutable object with named fields."
   ]
  },
  {
   "cell_type": "code",
   "execution_count": 217,
   "id": "1e8db4a1",
   "metadata": {},
   "outputs": [],
   "source": [
    "from collections import namedtuple\n",
    "\n",
    "Point = namedtuple(\"Point\", [\"x\", \"y\"])\n",
    "\n",
    "p = Point(10, 20)"
   ]
  },
  {
   "cell_type": "code",
   "execution_count": 218,
   "id": "2c78aa17",
   "metadata": {},
   "outputs": [
    {
     "data": {
      "text/plain": [
       "Point(x=10, y=20)"
      ]
     },
     "execution_count": 218,
     "metadata": {},
     "output_type": "execute_result"
    }
   ],
   "source": [
    "p # readable __repr__"
   ]
  },
  {
   "cell_type": "code",
   "execution_count": 219,
   "id": "81bf0b9f",
   "metadata": {},
   "outputs": [
    {
     "data": {
      "text/plain": [
       "30"
      ]
     },
     "execution_count": 219,
     "metadata": {},
     "output_type": "execute_result"
    }
   ],
   "source": [
    "p[0] + p[1] # access like a regular tuple"
   ]
  },
  {
   "cell_type": "code",
   "execution_count": 220,
   "id": "5200c7d8",
   "metadata": {},
   "outputs": [
    {
     "data": {
      "text/plain": [
       "30"
      ]
     },
     "execution_count": 220,
     "metadata": {},
     "output_type": "execute_result"
    }
   ],
   "source": [
    "p.x + p.y # fields also accessible by name"
   ]
  }
 ],
 "metadata": {
  "kernelspec": {
   "display_name": "torch",
   "language": "python",
   "name": "python3"
  },
  "language_info": {
   "codemirror_mode": {
    "name": "ipython",
    "version": 3
   },
   "file_extension": ".py",
   "mimetype": "text/x-python",
   "name": "python",
   "nbconvert_exporter": "python",
   "pygments_lexer": "ipython3",
   "version": "3.12.6"
  }
 },
 "nbformat": 4,
 "nbformat_minor": 5
}
