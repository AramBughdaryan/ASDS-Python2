{
 "cells": [
  {
   "cell_type": "code",
   "execution_count": 73,
   "metadata": {},
   "outputs": [],
   "source": [
    "import math\n",
    "import random\n",
    "from operator import mul\n",
    "from functools import  reduce\n",
    "\n",
    "import numpy as np\n"
   ]
  },
  {
   "cell_type": "markdown",
   "metadata": {},
   "source": [
    "## Problem 1 [10 points]  \n",
    "\n",
    "Write a function `make_polynomial(*coefficients)` that takes an arbitrary number of coefficients and returns a function representing the polynomial. The returned function should compute the polynomial’s value when called with a specific $x$.  \n"
   ]
  },
  {
   "cell_type": "code",
   "execution_count": 18,
   "metadata": {},
   "outputs": [],
   "source": [
    "def make_polynomial(*coefficients):\n",
    "    def func(x):\n",
    "        return sum((coef * x**i for i, coef in enumerate(coefficients)))\n",
    "    return func\n",
    "        "
   ]
  },
  {
   "cell_type": "code",
   "execution_count": 19,
   "metadata": {},
   "outputs": [
    {
     "name": "stdout",
     "output_type": "stream",
     "text": [
      "2\n",
      "10\n"
     ]
    }
   ],
   "source": [
    "poly = make_polynomial(2, 3, 5)  # Represents 2 + 3x + 5x^2\n",
    "print(poly(0))  # 2\n",
    "print(poly(1))  # 10"
   ]
  },
  {
   "cell_type": "markdown",
   "metadata": {},
   "source": [
    "## Problem 2 [10 points]\n",
    "\n",
    "Write a function that calculates the $n$-th derivative of a polynomial. The polynomial can be represented as a list of coefficients, where the index corresponds to the power of $x$. For example, $[3, 1, 2]$ represents the polynomial $3 + x + 2x^2$.  "
   ]
  },
  {
   "cell_type": "code",
   "execution_count": 72,
   "metadata": {},
   "outputs": [
    {
     "name": "stdout",
     "output_type": "stream",
     "text": [
      "[1, 4]\n",
      "[4]\n",
      "[0]\n"
     ]
    }
   ],
   "source": [
    "def polynomial_nth_derivative(coefficients, n):\n",
    "    reduced_coeffs = coefficients[n:]\n",
    "    if not reduced_coeffs:\n",
    "        return [0]\n",
    "\n",
    "    for i in range(len(reduced_coeffs)):\n",
    "        reduced_coeffs[i] *= reduce(mul, [n + i - k for k in range(n)])\n",
    "\n",
    "    return reduced_coeffs\n",
    "\n",
    "print(polynomial_nth_derivative([3, 1, 2], 1))  # [1, 4] (Derivative of 3 + x + 2x^2 is 4x)\n",
    "print(polynomial_nth_derivative([3, 1, 2], 2))  # [4] (Second derivative is 4)\n",
    "print(polynomial_nth_derivative([3, 1, 2], 3))  # [0] (Third derivative is 0)"
   ]
  },
  {
   "cell_type": "markdown",
   "metadata": {},
   "source": [
    "\n",
    "## Problem 3 [10 points]\n",
    "\n",
    "Write a function `matrix_power(matrix, n)` that computes the $n$-th power of a given square matrix.  \n",
    "\n",
    "- Assume $n$ is a non-negative integer.  \n",
    "- If $n = 0$, return the identity matrix of the same size.  \n",
    "- If $n = 1$, return the matrix itself.  \n",
    "- For $n > 1$, compute the matrix product repeatedly."
   ]
  },
  {
   "cell_type": "code",
   "execution_count": 77,
   "metadata": {},
   "outputs": [
    {
     "name": "stdout",
     "output_type": "stream",
     "text": [
      "[[ 37  54]\n",
      " [ 81 118]]\n",
      "[[1. 0.]\n",
      " [0. 1.]]\n"
     ]
    }
   ],
   "source": [
    "def matrix_power(matrix, n):\n",
    "    matrix = np.array(matrix)\n",
    "    if n > 0:\n",
    "        return np.linalg.matrix_power(matrix, n)\n",
    "    else:\n",
    "        return np.eye(matrix.shape[0])\n",
    "    \n",
    "\n",
    "matrix = [\n",
    "    [1, 2],\n",
    "    [3, 4]\n",
    "]\n",
    "\n",
    "print(matrix_power(matrix, 3)) # [[37, 54], [81, 118]]\n",
    "print(matrix_power(matrix, 0)) # [[1, 0], [0, 1]]\n"
   ]
  },
  {
   "cell_type": "markdown",
   "metadata": {},
   "source": [
    "## Problem 4 [10 points]\n",
    "\n",
    "Write a function `compose(*funcs)` that takes an arbitrary number of single-argument functions and returns a new function that is the composition of the input functions. The composed function should apply each function in the order they were passed.  \n"
   ]
  },
  {
   "cell_type": "code",
   "execution_count": null,
   "metadata": {},
   "outputs": [],
   "source": []
  }
 ],
 "metadata": {
  "kernelspec": {
   "display_name": "torch",
   "language": "python",
   "name": "python3"
  },
  "language_info": {
   "codemirror_mode": {
    "name": "ipython",
    "version": 3
   },
   "file_extension": ".py",
   "mimetype": "text/x-python",
   "name": "python",
   "nbconvert_exporter": "python",
   "pygments_lexer": "ipython3",
   "version": "3.12.6"
  }
 },
 "nbformat": 4,
 "nbformat_minor": 2
}
