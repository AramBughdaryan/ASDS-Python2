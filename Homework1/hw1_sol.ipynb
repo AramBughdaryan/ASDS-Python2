{
 "cells": [
  {
   "cell_type": "markdown",
   "metadata": {},
   "source": [
    "## Aram Bughdaryan\n"
   ]
  },
  {
   "cell_type": "code",
   "execution_count": 1,
   "metadata": {},
   "outputs": [],
   "source": [
    "import math\n",
    "import random\n",
    "from operator import mul\n",
    "from functools import  reduce\n",
    "from copy import deepcopy"
   ]
  },
  {
   "cell_type": "markdown",
   "metadata": {},
   "source": [
    "## Problem 1 [10 points]  \n",
    "\n",
    "Write a function `make_polynomial(*coefficients)` that takes an arbitrary number of coefficients and returns a function representing the polynomial. The returned function should compute the polynomial’s value when called with a specific $x$.  \n"
   ]
  },
  {
   "cell_type": "code",
   "execution_count": 2,
   "metadata": {},
   "outputs": [],
   "source": [
    "def make_polynomial(*coefficients):\n",
    "    def func(x):\n",
    "        return sum((coef * x**i for i, coef in enumerate(coefficients)))\n",
    "    return func\n",
    "        "
   ]
  },
  {
   "cell_type": "code",
   "execution_count": 3,
   "metadata": {},
   "outputs": [
    {
     "name": "stdout",
     "output_type": "stream",
     "text": [
      "2\n",
      "10\n"
     ]
    }
   ],
   "source": [
    "poly = make_polynomial(2, 3, 5)  # Represents 2 + 3x + 5x^2\n",
    "print(poly(0))  # 2\n",
    "print(poly(1))  # 10"
   ]
  },
  {
   "cell_type": "markdown",
   "metadata": {},
   "source": [
    "## Problem 2 [10 points]\n",
    "\n",
    "Write a function that calculates the $n$-th derivative of a polynomial. The polynomial can be represented as a list of coefficients, where the index corresponds to the power of $x$. For example, $[3, 1, 2]$ represents the polynomial $3 + x + 2x^2$.  "
   ]
  },
  {
   "cell_type": "code",
   "execution_count": 4,
   "metadata": {},
   "outputs": [
    {
     "name": "stdout",
     "output_type": "stream",
     "text": [
      "[1, 4]\n",
      "[4]\n",
      "[0]\n"
     ]
    }
   ],
   "source": [
    "def polynomial_nth_derivative(coefficients, n):\n",
    "    reduced_coeffs = coefficients[n:]\n",
    "    if not reduced_coeffs:\n",
    "        return [0]\n",
    "\n",
    "    for i in range(len(reduced_coeffs)):\n",
    "        reduced_coeffs[i] *= reduce(mul, [n + i - k for k in range(n)])\n",
    "\n",
    "    return reduced_coeffs\n",
    "\n",
    "print(polynomial_nth_derivative([3, 1, 2], 1))  # [1, 4] (Derivative of 3 + x + 2x^2 is 4x)\n",
    "print(polynomial_nth_derivative([3, 1, 2], 2))  # [4] (Second derivative is 4)\n",
    "print(polynomial_nth_derivative([3, 1, 2], 3))  # [0] (Third derivative is 0)"
   ]
  },
  {
   "cell_type": "markdown",
   "metadata": {},
   "source": [
    "\n",
    "## Problem 3 [10 points]\n",
    "\n",
    "Write a function `matrix_power(matrix, n)` that computes the $n$-th power of a given square matrix.  \n",
    "\n",
    "- Assume $n$ is a non-negative integer.  \n",
    "- If $n = 0$, return the identity matrix of the same size.  \n",
    "- If $n = 1$, return the matrix itself.  \n",
    "- For $n > 1$, compute the matrix product repeatedly."
   ]
  },
  {
   "cell_type": "code",
   "execution_count": 5,
   "metadata": {},
   "outputs": [],
   "source": [
    "def matrix_mul(A, B):\n",
    "    if len(A[0]) != len(B):\n",
    "        raise ValueError(\"Matrix dimensions do not match for multiplication.\")\n",
    "    C = [[0 for _ in range(len(A))] for _ in range(len(B[0]))]\n",
    "    for i in range(len(A)):\n",
    "        for j in range(len(B[0])):\n",
    "            C[i][j] = sum(A[i][k] * B[k][j] for k in range(len(A[0])))\n",
    "\n",
    "    return C"
   ]
  },
  {
   "cell_type": "code",
   "execution_count": 6,
   "metadata": {},
   "outputs": [
    {
     "name": "stdout",
     "output_type": "stream",
     "text": [
      "[[37, 54], [81, 118]]\n",
      "[[1, 0], [0, 1]]\n",
      "[[1, 2], [3, 4]]\n"
     ]
    }
   ],
   "source": [
    "def matrix_power(matrix, n):\n",
    "    initial_matrix = deepcopy(matrix)\n",
    "    if n == 0:\n",
    "        matrix = [[0 for _ in range(len(matrix))] for _ in range(len(matrix))]\n",
    "        for k in range(len(matrix)):\n",
    "            matrix[k][k] = 1\n",
    "    elif n == 1:\n",
    "        pass\n",
    "    else:\n",
    "        for _ in range(n - 1):\n",
    "            matrix = matrix_mul(matrix, initial_matrix)\n",
    "\n",
    "    return matrix\n",
    "\n",
    "\n",
    "matrix = [[1, 2], [3, 4]]\n",
    "\n",
    "print(matrix_power(matrix, 3))  # [[37, 54], [81, 118]]\n",
    "print(matrix_power(matrix, 0))  # [[1, 0], [0, 1]]\n",
    "print(matrix_power(matrix, 1))  # [[1, 2], [3, 4]]"
   ]
  },
  {
   "cell_type": "markdown",
   "metadata": {},
   "source": [
    "## Problem 4 [10 points]\n",
    "\n",
    "Write a function `compose(*funcs)` that takes an arbitrary number of single-argument functions and returns a new function that is the composition of the input functions. The composed function should apply each function in the order they were passed.  \n"
   ]
  },
  {
   "cell_type": "code",
   "execution_count": 7,
   "metadata": {},
   "outputs": [
    {
     "name": "stdout",
     "output_type": "stream",
     "text": [
      "49\n"
     ]
    }
   ],
   "source": [
    "def double(x):\n",
    "    return x * 2\n",
    "\n",
    "\n",
    "def increment(x):\n",
    "    return x + 1\n",
    "\n",
    "\n",
    "def square(x):\n",
    "    return x * x\n",
    "\n",
    "\n",
    "def compose(*funcs):\n",
    "    def make_compose_func(x):\n",
    "        for func in funcs[::-1]:\n",
    "            x = func(x)\n",
    "        return x\n",
    "\n",
    "    return make_compose_func\n",
    "\n",
    "\n",
    "composed = compose(square, increment, double)\n",
    "print(composed(3))  # square(increment(double(3))) = 49"
   ]
  },
  {
   "cell_type": "markdown",
   "metadata": {},
   "source": [
    "## Problem 5 [10 points]\n",
    "\n",
    "Write a Python recursive function to generate all possible combinations of a set of elements.\n",
    "\n",
    "**Note:** This will be your implementation of `itertools.combinations` function.\n",
    "**Note:** It is not required, but this function can be a generator function."
   ]
  },
  {
   "cell_type": "code",
   "execution_count": 9,
   "metadata": {},
   "outputs": [
    {
     "name": "stdout",
     "output_type": "stream",
     "text": [
      "<generator object generate_combinations at 0x1198a9470>\n",
      "[1, 2, 3]\n",
      "[1, 2, 4]\n",
      "[1, 3, 4]\n",
      "[2, 3, 4]\n"
     ]
    }
   ],
   "source": [
    "from copy import deepcopy\n",
    "\n",
    "def generate_combinations(elements, k, start=0):\n",
    "    if k == 0:\n",
    "        yield []\n",
    "        return \n",
    "    \n",
    "    for i in range(start, len(elements)):\n",
    "        add_el = elements[i]\n",
    "        sub_combs = generate_combinations(elements, k-1, i + 1)\n",
    "        for sub_comb in sub_combs:\n",
    "            yield [elements[i]] + sub_comb\n",
    "\n",
    "\n",
    "elements = [1, 2, 3, 4]\n",
    "k = 3\n",
    "combinations = generate_combinations(elements, k)\n",
    "print(combinations) # [(1, 2, 3), (1, 2, 4), (1, 3, 4), (2, 3, 4)]\n",
    "for comb in combinations:\n",
    "    print(comb)"
   ]
  },
  {
   "cell_type": "markdown",
   "metadata": {},
   "source": [
    "\n",
    "## Problem 6 [10 points]\n",
    "\n",
    "A perfect number is a positive integer that is equal to the sum of its positive divisors, excluding the number itself. For example, $6$ is a perfect number. \n",
    "\n",
    "Write a Python generator function that generates all the perfect numbers up to a given limit."
   ]
  },
  {
   "cell_type": "code",
   "execution_count": 10,
   "metadata": {},
   "outputs": [
    {
     "name": "stdout",
     "output_type": "stream",
     "text": [
      "6 28 "
     ]
    }
   ],
   "source": [
    "def get_divisors(n):\n",
    "    divisors = []\n",
    "    for i in range(1, n // 2 + 1):\n",
    "        if n % i == 0:\n",
    "            divisors.append(i)\n",
    "    return divisors\n",
    "\n",
    "\n",
    "def generate_perfect_numbers(limit):\n",
    "    def is_perfect(n):\n",
    "        return n == sum(get_divisors(n))\n",
    "\n",
    "    for i in range(1, limit):\n",
    "        if is_perfect(i):\n",
    "            yield i\n",
    "\n",
    "\n",
    "for num in generate_perfect_numbers(100):\n",
    "    print(num, end=\" \")  # 6 28"
   ]
  },
  {
   "cell_type": "markdown",
   "metadata": {},
   "source": [
    "\n",
    "## Problem 7 [10 points]\n",
    "\n",
    "An Armstrong number is a number that is the sum of its own digits each raised to the power of the number of digits. For example, $153$ is an Armstrong number as $153 = 1 ^ 3 + 5 ^ 3 + 3 ^ 3$.\n",
    "\n",
    "Write a Python generator function that generates all the Armstrong numbers up to a given limit."
   ]
  },
  {
   "cell_type": "code",
   "execution_count": 11,
   "metadata": {},
   "outputs": [
    {
     "name": "stdout",
     "output_type": "stream",
     "text": [
      "1 2 3 4 5 6 7 8 9 153 370 371 407 "
     ]
    }
   ],
   "source": [
    "def generate_armstrong_numbers(limit):\n",
    "    def is_armstrong(n):\n",
    "        str_n = str(n)\n",
    "        n_digits = len(str_n)\n",
    "        return n == sum(int(i) ** n_digits for i in str_n)\n",
    "\n",
    "    for n in range(1, limit):\n",
    "        if is_armstrong(n):\n",
    "            yield n\n",
    "\n",
    "\n",
    "for num in generate_armstrong_numbers(1000):\n",
    "    print(num, end=\" \")  # 1 2 3 4 5 6 7 8 9 153 370 371 407"
   ]
  },
  {
   "cell_type": "markdown",
   "metadata": {},
   "source": [
    "## Problem 8 [10 points]\n",
    "\n",
    "**Note:** The following problem can be solved using generator functions in the Python standard library.\n",
    " \n",
    "Write a Python function that takes a list of numbers and returns a list of all the triples of numbers in the list that form a Pythagorean triplet."
   ]
  },
  {
   "cell_type": "code",
   "execution_count": 12,
   "metadata": {},
   "outputs": [
    {
     "name": "stdout",
     "output_type": "stream",
     "text": [
      "[(3, 4, 5), (6, 8, 10)]\n"
     ]
    }
   ],
   "source": [
    "def pythagorean_triplets(numbers):\n",
    "    results_list = []\n",
    "\n",
    "    def is_pythagorean(i, j, k):\n",
    "        sorted_arrays = sorted([i, j, k])\n",
    "        return sorted_arrays[0] ** 2 + sorted_arrays[1] ** 2 == sorted_arrays[2] ** 2\n",
    "\n",
    "    for i, j, k in generate_combinations(numbers, 3):\n",
    "        if is_pythagorean(i, j, k):\n",
    "            results_list.append((i, j, k))\n",
    "\n",
    "    return results_list\n",
    "\n",
    "\n",
    "print(pythagorean_triplets([3, 4, 5, 6, 7, 8, 9, 10]))  # [(3, 4, 5), (6, 8, 10)]"
   ]
  },
  {
   "cell_type": "markdown",
   "metadata": {},
   "source": [
    "## Problem 9 [10 points]\n",
    "\n",
    "Write a Python decorator function that caches the output of a function. It should return the cached value if the function is called again with the same arguments. Provide an example usage of the decorator.\n"
   ]
  },
  {
   "cell_type": "code",
   "execution_count": 13,
   "metadata": {},
   "outputs": [
    {
     "name": "stdout",
     "output_type": "stream",
     "text": [
      "55\n",
      "55\n"
     ]
    }
   ],
   "source": [
    "def cache(func):\n",
    "    cached_elements = {}\n",
    "\n",
    "    def wrapper(n):\n",
    "        # nonlocal cached_elements : We don't need here since cached_elements is mutable\n",
    "        if str(n) in cached_elements:\n",
    "            return cached_elements[str(n)]\n",
    "        else:\n",
    "            out = func(n)\n",
    "            cached_elements[str(n)] = out\n",
    "            return out\n",
    "\n",
    "    return wrapper\n",
    "\n",
    "\n",
    "@cache\n",
    "def fibonacci(n):\n",
    "    if n < 2:\n",
    "        return n\n",
    "    else:\n",
    "        return fibonacci(n - 1) + fibonacci(n - 2)\n",
    "\n",
    "\n",
    "print(fibonacci(10))  # 55\n",
    "print(fibonacci(10))  # 55 (this is a cached value)"
   ]
  },
  {
   "cell_type": "markdown",
   "metadata": {},
   "source": [
    "## Problem 10 [10 points]\n",
    "\n",
    "Write a Python decorator function that limits the number of times a function can be called. Provide an example usage of the decorator.\n"
   ]
  },
  {
   "cell_type": "code",
   "execution_count": 14,
   "metadata": {},
   "outputs": [
    {
     "name": "stdout",
     "output_type": "stream",
     "text": [
      "Hello world!\n",
      "Hello world!\n",
      "Hello world!\n",
      "Function greet can be called only 3 times\n"
     ]
    }
   ],
   "source": [
    "def limit_calls(max_calls):\n",
    "    def decorator(func):\n",
    "        n_calls = 0\n",
    "\n",
    "        def wrapper(*args):\n",
    "            nonlocal n_calls\n",
    "            if n_calls < max_calls:\n",
    "                func(*args)\n",
    "                n_calls += 1\n",
    "            else:\n",
    "                print(f\"Function {func.__name__} can be called only {max_calls} times\")\n",
    "\n",
    "        return wrapper\n",
    "\n",
    "    return decorator\n",
    "\n",
    "\n",
    "@limit_calls(3)\n",
    "def greet():\n",
    "    print(\"Hello world!\")\n",
    "\n",
    "\n",
    "greet()  # Hello world!\n",
    "greet()  # Hello world!\n",
    "greet()  # Hello world!\n",
    "greet()  # Function `greet` can only be called 3 times."
   ]
  }
 ],
 "metadata": {
  "kernelspec": {
   "display_name": "torch",
   "language": "python",
   "name": "python3"
  },
  "language_info": {
   "codemirror_mode": {
    "name": "ipython",
    "version": 3
   },
   "file_extension": ".py",
   "mimetype": "text/x-python",
   "name": "python",
   "nbconvert_exporter": "python",
   "pygments_lexer": "ipython3",
   "version": "3.12.6"
  }
 },
 "nbformat": 4,
 "nbformat_minor": 2
}
