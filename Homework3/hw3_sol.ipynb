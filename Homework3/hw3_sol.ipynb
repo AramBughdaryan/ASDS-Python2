{
 "cells": [
  {
   "cell_type": "markdown",
   "metadata": {},
   "source": [
    "### Type Hinting\n",
    "Please use type hints wherever possible. This will help improve the readability and maintainability of your code.\n",
    "\n",
    "Incorrect or incomplete type hinting **will** result in penalties if trivial type hints are used incorrectly (for example, `list` is used instead of `float`, where the variable is obviously a number).\n",
    "\n"
   ]
  },
  {
   "cell_type": "markdown",
   "metadata": {},
   "source": [
    "\n",
    "## Problem 1 [25 points]\n",
    "\n",
    "Create an abstract base class `Expression` that represents a mathematical expression. This class should require methods for evaluating the expression (given a dictionary of variable values), for computing its symbolic derivative with respect to a variable. Also, it should require pretty printing and formatting for expressions. Then, implement concrete classes for constants, variables and binary operations (addition, subtraction, multiplication and division)."
   ]
  },
  {
   "cell_type": "code",
   "execution_count": 1,
   "metadata": {},
   "outputs": [
    {
     "data": {
      "text/plain": [
       "-17.181818181818183"
      ]
     },
     "execution_count": 1,
     "metadata": {},
     "output_type": "execute_result"
    }
   ],
   "source": [
    "eval(\"(2 * x + 3) * (x - 5) / (1 - x)\".replace('x','12'))"
   ]
  },
  {
   "cell_type": "code",
   "execution_count": 29,
   "metadata": {},
   "outputs": [],
   "source": [
    "from abc import ABC, abstractmethod\n",
    "\n",
    "\n",
    "class Expression(ABC):\n",
    "\n",
    "    @abstractmethod\n",
    "    def evaluate(self, values_dict: dict):\n",
    "        pass\n",
    "\n",
    "    @abstractmethod\n",
    "    def derivative(self, with_respect_to: str):\n",
    "        pass\n",
    "\n",
    "\n",
    "class Constant(Expression):\n",
    "    def __init__(self, value):\n",
    "        self.value = value\n",
    "\n",
    "    def evaluate(self, values_dict={}):\n",
    "        return self.value\n",
    "\n",
    "    def __repr__(self):\n",
    "        return f\"Constant(value={self.value})\"\n",
    "\n",
    "    def __str__(self):\n",
    "        return str(self.value)\n",
    "    \n",
    "    def derivative(self, respect_to: str):\n",
    "        return Constant(0)\n",
    "\n",
    "\n",
    "class Variable(Expression):\n",
    "    def __init__(self, name):\n",
    "        self.name = name\n",
    "\n",
    "    def evaluate(self, x_str):\n",
    "        return x_str[self.name]\n",
    "\n",
    "    def derivative(self, respect_to: str):\n",
    "        if respect_to == self.name:\n",
    "            return Constant(1)\n",
    "        else:\n",
    "            return Constant(0)\n",
    "\n",
    "\n",
    "    def __repr__(self):\n",
    "        return f\"Variable(name={self.name})\"\n",
    "\n",
    "    def __str__(self):\n",
    "        return str(self.name)\n",
    "\n",
    "\n",
    "class Add(Expression):\n",
    "    def __init__(self, expr_1: Expression, expr_2: Expression):\n",
    "        self.expr_1 = expr_1\n",
    "        self.expr_2 = expr_2\n",
    "\n",
    "    def evaluate(self, values_dict: dict):\n",
    "        return self.expr_1.evaluate(values_dict) + self.expr_2.evaluate(values_dict)\n",
    "    \n",
    "    def derivative(self, respect_to: str):\n",
    "        return Add(self.expr_1.derivative(respect_to), self.expr_2.derivative(respect_to))\n",
    "\n",
    "    def __repr__(self):\n",
    "        return f\"Add(expr_1={self.expr_1.__str__()}, expr_2={self.expr_2.__str__()})\"\n",
    "\n",
    "    def __str__(self):\n",
    "        return f\"({self.expr_1.__str__()} + {self.expr_2.__str__()})\"\n",
    "\n",
    "\n",
    "class Subtract(Expression):\n",
    "    def __init__(self, expr_1: Expression, expr_2: Expression):\n",
    "        self.expr_1 = expr_1\n",
    "        self.expr_2 = expr_2\n",
    "\n",
    "    def evaluate(self, values_dict: dict):\n",
    "        return self.expr_1.evaluate(values_dict) - self.expr_2.evaluate(values_dict)\n",
    "\n",
    "\n",
    "    def derivative(self, respect_to: str):\n",
    "        return Subtract(self.expr_1.derivative(respect_to), self.expr_2.derivative(respect_to))\n",
    "\n",
    "    def __repr__(self):\n",
    "        return (\n",
    "            f\"Subtract(expr_1={self.expr_1.__str__()}, expr_2={self.expr_2.__str__()})\"\n",
    "        )\n",
    "\n",
    "    def __str__(self):\n",
    "        return f\"({self.expr_1.__str__()} - {self.expr_2.__str__()})\"\n",
    "\n",
    "\n",
    "class Multiply(Expression):\n",
    "    def __init__(self, expr_1: Expression, expr_2: Expression):\n",
    "        self.expr_1 = expr_1\n",
    "        self.expr_2 = expr_2\n",
    "\n",
    "    def evaluate(self, values_dict: dict):\n",
    "        return self.expr_1.evaluate(values_dict) * self.expr_2.evaluate(values_dict)\n",
    "\n",
    "    def derivative(self, respect_to: str):\n",
    "        first_part = Multiply(self.expr_1.derivative(respect_to), self.expr_2)\n",
    "        second_part = Multiply(self.expr_1, self.expr_2.derivative(respect_to))\n",
    "\n",
    "        return Add(first_part, second_part)\n",
    "\n",
    "    def __repr__(self):\n",
    "        return (\n",
    "            f\"Multiply(expr_1={self.expr_1.__str__()}, expr_2={self.expr_2.__str__()})\"\n",
    "        )\n",
    "\n",
    "    def __str__(self):\n",
    "        return f\"({self.expr_1.__str__()} * {self.expr_2.__str__()})\"\n",
    "\n",
    "class Divide(Expression):\n",
    "    def __init__(self, expr_1: Expression, expr_2: Expression):\n",
    "        self.expr_1 = expr_1\n",
    "        self.expr_2 = expr_2\n",
    "\n",
    "    def evaluate(self, values_dict: dict):\n",
    "        return self.expr_1.evaluate(values_dict) / self.expr_2.evaluate(values_dict)\n",
    "    \n",
    "    def derivative(self, respect_to: str):\n",
    "        first_part = Multiply(self.expr_1.derivative(respect_to), self.expr_2)\n",
    "        second_part = Multiply(self.expr_1, self.expr_2.derivative(respect_to))\n",
    "\n",
    "\n",
    "        return Divide(Subtract(first_part, second_part), Multiply(self.expr_2, self.expr_2))\n",
    "\n",
    "    def __repr__(self):\n",
    "        return (\n",
    "            f\"Divide(expr_1={self.expr_1.__str__()}, expr_2={self.expr_2.__str__()})\"\n",
    "        )\n",
    "\n",
    "    def __str__(self):\n",
    "        return f\"({self.expr_1.__str__()} / {self.expr_2.__str__()})\"\n",
    "\n",
    "\n",
    "# # expr = Divide(\n",
    "# #     Multiply(\n",
    "# #         Add(Multiply(Constant(2), Variable(\"x\")), Constant(3)),\n",
    "# #         Subtract(Variable(\"x\"), Constant(5))\n",
    "# #     ),\n",
    "# #     Subtract(Constant(1), Variable(\"x\"))\n",
    "# # )\n",
    "\n",
    "# # print(expr) # (2 * x + 3) * (x - 5) / (1 - x)\n",
    "\n",
    "# # assert expr.evaluate({\"x\": 3}) == 9.0\n",
    "\n",
    "# # derivative_expr = expr.derivative(\"x\")\n",
    "\n",
    "# # assert derivative_expr.evaluate({\"x\": 3}) == -7.0"
   ]
  },
  {
   "cell_type": "code",
   "execution_count": 30,
   "metadata": {},
   "outputs": [
    {
     "name": "stdout",
     "output_type": "stream",
     "text": [
      "((((2 * x) + 3) * (x - 5)) / (1 - x))\n"
     ]
    },
    {
     "data": {
      "text/plain": [
       "-7.0"
      ]
     },
     "execution_count": 30,
     "metadata": {},
     "output_type": "execute_result"
    }
   ],
   "source": [
    "# add = Subtract(Constant(3), Variable(\"x\"))\n",
    "# add.evaluate({\"x\": 12})\n",
    "expr = Divide(\n",
    "    Multiply(\n",
    "        Add(Multiply(Constant(2), Variable(\"x\")), Constant(3)),\n",
    "        Subtract(Variable(\"x\"), Constant(5))\n",
    "    ),\n",
    "    Subtract(Constant(1), Variable(\"x\"))\n",
    ")\n",
    "\n",
    "expr.evaluate({\"x\": 3}) == 9.0\n",
    "print(expr)\n",
    "\n",
    "derivative_expr = expr.derivative(\"x\")\n",
    "\n",
    "# assert derivative_expr.evaluate({\"x\": 3}) == -7.0\n",
    "\n",
    "derivative_expr.evaluate({\"x\": 3})"
   ]
  },
  {
   "cell_type": "code",
   "execution_count": null,
   "metadata": {},
   "outputs": [],
   "source": []
  }
 ],
 "metadata": {
  "kernelspec": {
   "display_name": "torch",
   "language": "python",
   "name": "python3"
  },
  "language_info": {
   "codemirror_mode": {
    "name": "ipython",
    "version": 3
   },
   "file_extension": ".py",
   "mimetype": "text/x-python",
   "name": "python",
   "nbconvert_exporter": "python",
   "pygments_lexer": "ipython3",
   "version": "3.12.6"
  }
 },
 "nbformat": 4,
 "nbformat_minor": 2
}
